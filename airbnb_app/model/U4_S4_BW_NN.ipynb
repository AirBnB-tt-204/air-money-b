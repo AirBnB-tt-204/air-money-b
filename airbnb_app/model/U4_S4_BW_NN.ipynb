{
  "nbformat": 4,
  "nbformat_minor": 0,
  "metadata": {
    "colab": {
      "name": "U4-S4-BW-NN",
      "provenance": [],
      "collapsed_sections": []
    },
    "kernelspec": {
      "name": "python3",
      "display_name": "Python 3"
    }
  },
  "cells": [
    {
      "cell_type": "code",
      "metadata": {
        "id": "OTtGshXOf5kM"
      },
      "source": [
        "import os\n",
        "import numpy as np\n",
        "import pandas as pd\n",
        "\n",
        "import tensorflow as tf\n",
        "from sklearn.preprocessing import MinMaxScaler\n",
        "from sklearn.pipeline import Pipeline\n",
        "from sklearn.preprocessing import OrdinalEncoder\n",
        "from sklearn.model_selection import train_test_split\n",
        "from tensorflow.keras.models import Sequential\n",
        "from tensorflow.keras.layers import Dense, Dropout\n",
        "from tensorflow.keras.models import model_from_json\n",
        "from keras import regularizers\n",
        "\n",
        "tf.keras.backend.set_floatx('float32')"
      ],
      "execution_count": 1,
      "outputs": []
    },
    {
      "cell_type": "code",
      "metadata": {
        "colab": {
          "base_uri": "https://localhost:8080/"
        },
        "id": "ruJqAh1rg58Q",
        "outputId": "55c756fd-0019-4b96-df3f-d84f1c0c52ad"
      },
      "source": [
        "# read in data:\n",
        "df = pd.read_csv('/content/drive/MyDrive/AB_US_2020.csv')\n",
        "df.shape"
      ],
      "execution_count": 2,
      "outputs": [
        {
          "output_type": "stream",
          "text": [
            "/usr/local/lib/python3.7/dist-packages/IPython/core/interactiveshell.py:2718: DtypeWarning: Columns (4) have mixed types.Specify dtype option on import or set low_memory=False.\n",
            "  interactivity=interactivity, compiler=compiler, result=result)\n"
          ],
          "name": "stderr"
        },
        {
          "output_type": "execute_result",
          "data": {
            "text/plain": [
              "(226030, 17)"
            ]
          },
          "metadata": {
            "tags": []
          },
          "execution_count": 2
        }
      ]
    },
    {
      "cell_type": "code",
      "metadata": {
        "colab": {
          "base_uri": "https://localhost:8080/"
        },
        "id": "11D8P6DZhHxZ",
        "outputId": "b8955889-733e-48b9-9535-506c5d67bbf3"
      },
      "source": [
        "df.columns"
      ],
      "execution_count": 3,
      "outputs": [
        {
          "output_type": "execute_result",
          "data": {
            "text/plain": [
              "Index(['id', 'name', 'host_id', 'host_name', 'neighbourhood_group',\n",
              "       'neighbourhood', 'latitude', 'longitude', 'room_type', 'price',\n",
              "       'minimum_nights', 'number_of_reviews', 'last_review',\n",
              "       'reviews_per_month', 'calculated_host_listings_count',\n",
              "       'availability_365', 'city'],\n",
              "      dtype='object')"
            ]
          },
          "metadata": {
            "tags": []
          },
          "execution_count": 3
        }
      ]
    },
    {
      "cell_type": "code",
      "metadata": {
        "colab": {
          "base_uri": "https://localhost:8080/"
        },
        "id": "3o5cb1TlhQHF",
        "outputId": "b5e3d847-1546-434f-d926-576a7a2c14e0"
      },
      "source": [
        "# Drop Unusable columns\n",
        "columns = ['id',\n",
        "           'neighbourhood_group',\n",
        "           'last_review',\n",
        "           'reviews_per_month',\n",
        "           'name',\n",
        "           'host_name',\n",
        "           'latitude',\n",
        "           'longitude',\n",
        "           'number_of_reviews',\n",
        "           'host_id',\n",
        "           'calculated_host_listings_count']\n",
        "\n",
        "df = df.drop(columns, axis=1)\n",
        "df.shape"
      ],
      "execution_count": 4,
      "outputs": [
        {
          "output_type": "execute_result",
          "data": {
            "text/plain": [
              "(226030, 6)"
            ]
          },
          "metadata": {
            "tags": []
          },
          "execution_count": 4
        }
      ]
    },
    {
      "cell_type": "code",
      "metadata": {
        "colab": {
          "base_uri": "https://localhost:8080/",
          "height": 424
        },
        "id": "rzVjyfUtAzmJ",
        "outputId": "cce138ee-8c68-442a-cd4b-f65dd282bb04"
      },
      "source": [
        "df"
      ],
      "execution_count": 20,
      "outputs": [
        {
          "output_type": "execute_result",
          "data": {
            "text/html": [
              "<div>\n",
              "<style scoped>\n",
              "    .dataframe tbody tr th:only-of-type {\n",
              "        vertical-align: middle;\n",
              "    }\n",
              "\n",
              "    .dataframe tbody tr th {\n",
              "        vertical-align: top;\n",
              "    }\n",
              "\n",
              "    .dataframe thead th {\n",
              "        text-align: right;\n",
              "    }\n",
              "</style>\n",
              "<table border=\"1\" class=\"dataframe\">\n",
              "  <thead>\n",
              "    <tr style=\"text-align: right;\">\n",
              "      <th></th>\n",
              "      <th>neighbourhood</th>\n",
              "      <th>room_type</th>\n",
              "      <th>price</th>\n",
              "      <th>minimum_nights</th>\n",
              "      <th>availability_365</th>\n",
              "      <th>city</th>\n",
              "    </tr>\n",
              "  </thead>\n",
              "  <tbody>\n",
              "    <tr>\n",
              "      <th>0</th>\n",
              "      <td>28804</td>\n",
              "      <td>Private room</td>\n",
              "      <td>60</td>\n",
              "      <td>1</td>\n",
              "      <td>0</td>\n",
              "      <td>Asheville</td>\n",
              "    </tr>\n",
              "    <tr>\n",
              "      <th>1</th>\n",
              "      <td>28801</td>\n",
              "      <td>Entire home/apt</td>\n",
              "      <td>470</td>\n",
              "      <td>1</td>\n",
              "      <td>288</td>\n",
              "      <td>Asheville</td>\n",
              "    </tr>\n",
              "    <tr>\n",
              "      <th>2</th>\n",
              "      <td>28801</td>\n",
              "      <td>Entire home/apt</td>\n",
              "      <td>75</td>\n",
              "      <td>30</td>\n",
              "      <td>298</td>\n",
              "      <td>Asheville</td>\n",
              "    </tr>\n",
              "    <tr>\n",
              "      <th>3</th>\n",
              "      <td>28806</td>\n",
              "      <td>Entire home/apt</td>\n",
              "      <td>90</td>\n",
              "      <td>1</td>\n",
              "      <td>0</td>\n",
              "      <td>Asheville</td>\n",
              "    </tr>\n",
              "    <tr>\n",
              "      <th>4</th>\n",
              "      <td>28801</td>\n",
              "      <td>Private room</td>\n",
              "      <td>125</td>\n",
              "      <td>30</td>\n",
              "      <td>0</td>\n",
              "      <td>Asheville</td>\n",
              "    </tr>\n",
              "    <tr>\n",
              "      <th>...</th>\n",
              "      <td>...</td>\n",
              "      <td>...</td>\n",
              "      <td>...</td>\n",
              "      <td>...</td>\n",
              "      <td>...</td>\n",
              "      <td>...</td>\n",
              "    </tr>\n",
              "    <tr>\n",
              "      <th>226025</th>\n",
              "      <td>Downtown, Chinatown, Penn Quarters, Mount Vern...</td>\n",
              "      <td>Entire home/apt</td>\n",
              "      <td>104</td>\n",
              "      <td>1</td>\n",
              "      <td>99</td>\n",
              "      <td>Washington D.C.</td>\n",
              "    </tr>\n",
              "    <tr>\n",
              "      <th>226026</th>\n",
              "      <td>Brookland, Brentwood, Langdon</td>\n",
              "      <td>Entire home/apt</td>\n",
              "      <td>151</td>\n",
              "      <td>2</td>\n",
              "      <td>300</td>\n",
              "      <td>Washington D.C.</td>\n",
              "    </tr>\n",
              "    <tr>\n",
              "      <th>226027</th>\n",
              "      <td>Shaw, Logan Circle</td>\n",
              "      <td>Entire home/apt</td>\n",
              "      <td>240</td>\n",
              "      <td>2</td>\n",
              "      <td>173</td>\n",
              "      <td>Washington D.C.</td>\n",
              "    </tr>\n",
              "    <tr>\n",
              "      <th>226028</th>\n",
              "      <td>Kalorama Heights, Adams Morgan, Lanier Heights</td>\n",
              "      <td>Entire home/apt</td>\n",
              "      <td>60</td>\n",
              "      <td>21</td>\n",
              "      <td>362</td>\n",
              "      <td>Washington D.C.</td>\n",
              "    </tr>\n",
              "    <tr>\n",
              "      <th>226029</th>\n",
              "      <td>Edgewood, Bloomingdale, Truxton Circle, Eckington</td>\n",
              "      <td>Entire home/apt</td>\n",
              "      <td>79</td>\n",
              "      <td>7</td>\n",
              "      <td>62</td>\n",
              "      <td>Washington D.C.</td>\n",
              "    </tr>\n",
              "  </tbody>\n",
              "</table>\n",
              "<p>212300 rows × 6 columns</p>\n",
              "</div>"
            ],
            "text/plain": [
              "                                            neighbourhood  ...             city\n",
              "0                                                   28804  ...        Asheville\n",
              "1                                                   28801  ...        Asheville\n",
              "2                                                   28801  ...        Asheville\n",
              "3                                                   28806  ...        Asheville\n",
              "4                                                   28801  ...        Asheville\n",
              "...                                                   ...  ...              ...\n",
              "226025  Downtown, Chinatown, Penn Quarters, Mount Vern...  ...  Washington D.C.\n",
              "226026                      Brookland, Brentwood, Langdon  ...  Washington D.C.\n",
              "226027                                 Shaw, Logan Circle  ...  Washington D.C.\n",
              "226028     Kalorama Heights, Adams Morgan, Lanier Heights  ...  Washington D.C.\n",
              "226029  Edgewood, Bloomingdale, Truxton Circle, Eckington  ...  Washington D.C.\n",
              "\n",
              "[212300 rows x 6 columns]"
            ]
          },
          "metadata": {
            "tags": []
          },
          "execution_count": 20
        }
      ]
    },
    {
      "cell_type": "code",
      "metadata": {
        "colab": {
          "base_uri": "https://localhost:8080/"
        },
        "id": "R20FyZcSijY8",
        "outputId": "c934ff03-373f-46bb-badb-cd65fc1a22c2"
      },
      "source": [
        "# factorize non-numeric categorical data,\n",
        "# simple process on data for preparation to train\n",
        "\n",
        "cat_cols = ['neighbourhood', 'room_type', 'city']\n",
        "\n",
        "# enc = OrdinalEncoder()\n",
        "\n",
        "\n",
        "# df['neighbourhood'] = pd.factorize(df.neighbourhood)[0]\n",
        "# df['room_type'] = pd.factorize(df.room_type)[0]\n",
        "# df['city'] = pd.factorize(df.city)[0]\n",
        "# df['price'] = df['price'].astype(float)\n",
        "\n",
        "df = df[df['price'] <= 501]\n",
        "\n",
        "df.shape"
      ],
      "execution_count": 5,
      "outputs": [
        {
          "output_type": "execute_result",
          "data": {
            "text/plain": [
              "(212300, 6)"
            ]
          },
          "metadata": {
            "tags": []
          },
          "execution_count": 5
        }
      ]
    },
    {
      "cell_type": "code",
      "metadata": {
        "colab": {
          "base_uri": "https://localhost:8080/"
        },
        "id": "u12S_AecjpGY",
        "outputId": "2f551bcd-7f4f-41ce-df26-f1789dbdae73"
      },
      "source": [
        "df.isnull().sum()"
      ],
      "execution_count": 6,
      "outputs": [
        {
          "output_type": "execute_result",
          "data": {
            "text/plain": [
              "neighbourhood       0\n",
              "room_type           0\n",
              "price               0\n",
              "minimum_nights      0\n",
              "availability_365    0\n",
              "city                0\n",
              "dtype: int64"
            ]
          },
          "metadata": {
            "tags": []
          },
          "execution_count": 6
        }
      ]
    },
    {
      "cell_type": "code",
      "metadata": {
        "id": "5MVYye6CCs0t"
      },
      "source": [
        "df1 = df.groupby('city').neighbourhood.apply(list).reset_index(name='neighborhood_list')\n",
        "df1.to_csv('city_neighborhood.csv')\n",
        "# df1"
      ],
      "execution_count": 22,
      "outputs": []
    },
    {
      "cell_type": "code",
      "metadata": {
        "id": "s_0OgvD8zsv6"
      },
      "source": [
        "# enc = OrdinalEncoder()\n",
        "\n",
        "# df_cat = df[cat_cols]\n",
        "\n",
        "# df_cat = enc.fit_transform(df_cat)"
      ],
      "execution_count": 7,
      "outputs": []
    },
    {
      "cell_type": "code",
      "metadata": {
        "id": "4ywuzNOBzs03"
      },
      "source": [
        "# from sklearn.preprocessing import OneHotEncoder\n",
        "\n",
        "# ohenc = OneHotEncoder()\n",
        "\n",
        "# df_cat_oh = ohenc.fit_transform(df_cat)\n"
      ],
      "execution_count": 8,
      "outputs": []
    },
    {
      "cell_type": "code",
      "metadata": {
        "id": "llgoWNi8zs52"
      },
      "source": [
        "# num_vars = ['availability_365']\n",
        "\n",
        "# df_num = df[num_vars]"
      ],
      "execution_count": 9,
      "outputs": []
    },
    {
      "cell_type": "code",
      "metadata": {
        "id": "mSX7I0rc1dlo"
      },
      "source": [
        "# MMS = MinMaxScaler()\n",
        "\n",
        "# scaled = MMS.fit_transform(df_num)\n",
        "# scaled"
      ],
      "execution_count": 10,
      "outputs": []
    },
    {
      "cell_type": "code",
      "metadata": {
        "id": "eQthh8X61l7v"
      },
      "source": [
        "# num_pipeline = Pipeline([\n",
        "#                          ('minmaxscaler', MMS)\n",
        "# ])\n",
        "\n",
        "# num_transformed = num_pipeline.fit_transform(df_num)"
      ],
      "execution_count": 11,
      "outputs": []
    },
    {
      "cell_type": "code",
      "metadata": {
        "id": "JCV9EqvnzZ5v"
      },
      "source": [
        "# from sklearn.compose import ColumnTransformer\n",
        "\n",
        "# data_pipeline = ColumnTransformer([\n",
        "#                                    ('numerical', num_pipeline, num_vars),\n",
        "#                                    ('categorical', enc, cat_cols)\n",
        "# ])\n",
        "\n",
        "# df_proc = data_pipeline.fit_transform(df)"
      ],
      "execution_count": 12,
      "outputs": []
    },
    {
      "cell_type": "code",
      "metadata": {
        "id": "FaZJWspw29rW"
      },
      "source": [
        "# df_proc"
      ],
      "execution_count": 13,
      "outputs": []
    },
    {
      "cell_type": "code",
      "metadata": {
        "id": "ofCLpF-85luo"
      },
      "source": [
        "MMS = MinMaxScaler()\n",
        "enc = OrdinalEncoder()\n",
        "\n",
        "dfcat = df[cat_cols]\n",
        "dfcat = enc.fit_transform(dfcat)"
      ],
      "execution_count": 7,
      "outputs": []
    },
    {
      "cell_type": "code",
      "metadata": {
        "colab": {
          "base_uri": "https://localhost:8080/"
        },
        "id": "qyJpSqFq8W2g",
        "outputId": "80db74b0-4004-4d81-86c6-751cd7f63e3e"
      },
      "source": [
        "dfcat"
      ],
      "execution_count": 8,
      "outputs": [
        {
          "output_type": "execute_result",
          "data": {
            "text/plain": [
              "array([[   5.,    2.,    0.],\n",
              "       [   3.,    0.,    0.],\n",
              "       [   3.,    0.,    0.],\n",
              "       ...,\n",
              "       [1158.,    0.,   27.],\n",
              "       [ 675.,    0.,   27.],\n",
              "       [ 448.,    0.,   27.]])"
            ]
          },
          "metadata": {
            "tags": []
          },
          "execution_count": 8
        }
      ]
    },
    {
      "cell_type": "code",
      "metadata": {
        "id": "_Cjw6wiX7WvQ"
      },
      "source": [
        "dfnum = df[['availability_365', 'minimum_nights']].values"
      ],
      "execution_count": 9,
      "outputs": []
    },
    {
      "cell_type": "code",
      "metadata": {
        "colab": {
          "base_uri": "https://localhost:8080/"
        },
        "id": "iQJnkEH87ohZ",
        "outputId": "042c8789-e8e9-42d8-c7b7-8ef9b47b8eca"
      },
      "source": [
        "dfnum"
      ],
      "execution_count": 10,
      "outputs": [
        {
          "output_type": "execute_result",
          "data": {
            "text/plain": [
              "array([[  0,   1],\n",
              "       [288,   1],\n",
              "       [298,  30],\n",
              "       ...,\n",
              "       [173,   2],\n",
              "       [362,  21],\n",
              "       [ 62,   7]])"
            ]
          },
          "metadata": {
            "tags": []
          },
          "execution_count": 10
        }
      ]
    },
    {
      "cell_type": "code",
      "metadata": {
        "colab": {
          "base_uri": "https://localhost:8080/"
        },
        "id": "1XOcwy0V6Qxf",
        "outputId": "2e02d494-203a-4d6c-adf2-1caec2e60022"
      },
      "source": [
        "df_joined = np.append(dfcat, dfnum, axis=1)\n",
        "df_joined"
      ],
      "execution_count": 11,
      "outputs": [
        {
          "output_type": "execute_result",
          "data": {
            "text/plain": [
              "array([[5.000e+00, 2.000e+00, 0.000e+00, 0.000e+00, 1.000e+00],\n",
              "       [3.000e+00, 0.000e+00, 0.000e+00, 2.880e+02, 1.000e+00],\n",
              "       [3.000e+00, 0.000e+00, 0.000e+00, 2.980e+02, 3.000e+01],\n",
              "       ...,\n",
              "       [1.158e+03, 0.000e+00, 2.700e+01, 1.730e+02, 2.000e+00],\n",
              "       [6.750e+02, 0.000e+00, 2.700e+01, 3.620e+02, 2.100e+01],\n",
              "       [4.480e+02, 0.000e+00, 2.700e+01, 6.200e+01, 7.000e+00]])"
            ]
          },
          "metadata": {
            "tags": []
          },
          "execution_count": 11
        }
      ]
    },
    {
      "cell_type": "code",
      "metadata": {
        "id": "EFTOUWzA7Vnw"
      },
      "source": [
        "df_scaled = MMS.fit_transform(df_joined)"
      ],
      "execution_count": 12,
      "outputs": []
    },
    {
      "cell_type": "code",
      "metadata": {
        "colab": {
          "base_uri": "https://localhost:8080/"
        },
        "id": "s1m_CYfm7VMe",
        "outputId": "8beafddb-b264-4f4f-a714-82bda2c70e4d"
      },
      "source": [
        "df_scaled"
      ],
      "execution_count": 13,
      "outputs": [
        {
          "output_type": "execute_result",
          "data": {
            "text/plain": [
              "array([[3.45542502e-03, 6.66666667e-01, 0.00000000e+00, 0.00000000e+00,\n",
              "        0.00000000e+00],\n",
              "       [2.07325501e-03, 0.00000000e+00, 0.00000000e+00, 7.89041096e-01,\n",
              "        0.00000000e+00],\n",
              "       [2.07325501e-03, 0.00000000e+00, 0.00000000e+00, 8.16438356e-01,\n",
              "        2.90000003e-07],\n",
              "       ...,\n",
              "       [8.00276434e-01, 0.00000000e+00, 1.00000000e+00, 4.73972603e-01,\n",
              "        1.00000001e-08],\n",
              "       [4.66482377e-01, 0.00000000e+00, 1.00000000e+00, 9.91780822e-01,\n",
              "        2.00000002e-07],\n",
              "       [3.09606082e-01, 0.00000000e+00, 1.00000000e+00, 1.69863014e-01,\n",
              "        6.00000006e-08]])"
            ]
          },
          "metadata": {
            "tags": []
          },
          "execution_count": 13
        }
      ]
    },
    {
      "cell_type": "code",
      "metadata": {
        "colab": {
          "base_uri": "https://localhost:8080/"
        },
        "id": "7iMlO0-Mh2Vg",
        "outputId": "db686caf-4f1a-405a-d72a-bf2d669fa1eb"
      },
      "source": [
        "# Set target variables for training\n",
        "target = ['price']\n",
        "df_low = df.drop(target, axis=1)\n",
        "X = df_scaled\n",
        "Y = df[target].values\n",
        "\n",
        "print(X.shape, Y.shape)"
      ],
      "execution_count": 14,
      "outputs": [
        {
          "output_type": "stream",
          "text": [
            "(212300, 5) (212300, 1)\n"
          ],
          "name": "stdout"
        }
      ]
    },
    {
      "cell_type": "code",
      "metadata": {
        "colab": {
          "base_uri": "https://localhost:8080/"
        },
        "id": "z-ZmGPWGTK-s",
        "outputId": "5f30b216-63ee-441c-b82a-0363921fce3c"
      },
      "source": [
        "X"
      ],
      "execution_count": 15,
      "outputs": [
        {
          "output_type": "execute_result",
          "data": {
            "text/plain": [
              "array([[3.45542502e-03, 6.66666667e-01, 0.00000000e+00, 0.00000000e+00,\n",
              "        0.00000000e+00],\n",
              "       [2.07325501e-03, 0.00000000e+00, 0.00000000e+00, 7.89041096e-01,\n",
              "        0.00000000e+00],\n",
              "       [2.07325501e-03, 0.00000000e+00, 0.00000000e+00, 8.16438356e-01,\n",
              "        2.90000003e-07],\n",
              "       ...,\n",
              "       [8.00276434e-01, 0.00000000e+00, 1.00000000e+00, 4.73972603e-01,\n",
              "        1.00000001e-08],\n",
              "       [4.66482377e-01, 0.00000000e+00, 1.00000000e+00, 9.91780822e-01,\n",
              "        2.00000002e-07],\n",
              "       [3.09606082e-01, 0.00000000e+00, 1.00000000e+00, 1.69863014e-01,\n",
              "        6.00000006e-08]])"
            ]
          },
          "metadata": {
            "tags": []
          },
          "execution_count": 15
        }
      ]
    },
    {
      "cell_type": "code",
      "metadata": {
        "id": "1VcfTJVMiJlC"
      },
      "source": [
        "# enc = OrdinalEncoder()\n",
        "# MMS = MinMaxScaler()\n",
        "\n",
        "# X_enc = enc.fit_transform(X)\n",
        "# X = MMS.fit_transform(X_enc)\n",
        "# X"
      ],
      "execution_count": 49,
      "outputs": []
    },
    {
      "cell_type": "code",
      "metadata": {
        "id": "d7WsZVcx52XA"
      },
      "source": [
        "# X"
      ],
      "execution_count": 50,
      "outputs": []
    },
    {
      "cell_type": "code",
      "metadata": {
        "colab": {
          "base_uri": "https://localhost:8080/"
        },
        "id": "UfqKima_j-Z4",
        "outputId": "2576ee8f-9abb-4720-e6f7-302e8ab3efe4"
      },
      "source": [
        "# Train/Test Split:\n",
        "\n",
        "X_train, X_test, y_train, y_test = train_test_split(X, Y, test_size=0.2, shuffle=True, random_state=42)\n",
        "\n",
        "print(X_train.shape, X_test.shape)\n",
        "print(y_train.shape, y_test.shape)"
      ],
      "execution_count": 16,
      "outputs": [
        {
          "output_type": "stream",
          "text": [
            "(169840, 5) (42460, 5)\n",
            "(169840, 1) (42460, 1)\n"
          ],
          "name": "stdout"
        }
      ]
    },
    {
      "cell_type": "code",
      "metadata": {
        "id": "e1eTuSagkRS8"
      },
      "source": [
        "# Set regularization and NN features:\n",
        "learn_rate_reducer = tf.keras.callbacks.ReduceLROnPlateau(monitor='val_loss', patience=2, factor=0.2, min_lr=0.001, cooldown=2)\n",
        "early_stop = tf.keras.callbacks.EarlyStopping(patience=5, restore_best_weights=True)\n",
        "\n",
        "callbacks = [learn_rate_reducer, early_stop]\n",
        "\n",
        "rmse = tf.keras.metrics.RootMeanSquaredError()"
      ],
      "execution_count": 17,
      "outputs": []
    },
    {
      "cell_type": "code",
      "metadata": {
        "colab": {
          "base_uri": "https://localhost:8080/"
        },
        "id": "0iDaTYWHlKtu",
        "outputId": "8029546d-1f3b-4a74-a1da-da9e6b9399ba"
      },
      "source": [
        "# Model:\n",
        "\n",
        "nn = Sequential()\n",
        "\n",
        "nn.add(Dense(128, input_shape=(X_train.shape[1],), kernel_regularizer=regularizers.l1(0.005), activation='relu'))\n",
        "nn.add(Dropout(0.25))\n",
        "nn.add(Dense(256, kernel_regularizer=regularizers.l1(0.005), activation='relu'))\n",
        "nn.add(Dropout(0.4))\n",
        "nn.add(Dense(512, kernel_regularizer=regularizers.l1(0.005), activation='relu'))\n",
        "nn.add(Dropout(0.25))\n",
        "nn.add(Dense(64, kernel_regularizer=regularizers.l1(0.005), activation='relu'))\n",
        "nn.add(Dense(1, activation='linear'))\n",
        "\n",
        "nn.compile(loss='mean_squared_error',\n",
        "           optimizer='nadam',\n",
        "           metrics=['mean_absolute_error', rmse])\n",
        "\n",
        "# Model summary:\n",
        "print(nn.summary())"
      ],
      "execution_count": 18,
      "outputs": [
        {
          "output_type": "stream",
          "text": [
            "Model: \"sequential\"\n",
            "_________________________________________________________________\n",
            "Layer (type)                 Output Shape              Param #   \n",
            "=================================================================\n",
            "dense (Dense)                (None, 128)               768       \n",
            "_________________________________________________________________\n",
            "dropout (Dropout)            (None, 128)               0         \n",
            "_________________________________________________________________\n",
            "dense_1 (Dense)              (None, 256)               33024     \n",
            "_________________________________________________________________\n",
            "dropout_1 (Dropout)          (None, 256)               0         \n",
            "_________________________________________________________________\n",
            "dense_2 (Dense)              (None, 512)               131584    \n",
            "_________________________________________________________________\n",
            "dropout_2 (Dropout)          (None, 512)               0         \n",
            "_________________________________________________________________\n",
            "dense_3 (Dense)              (None, 64)                32832     \n",
            "_________________________________________________________________\n",
            "dense_4 (Dense)              (None, 1)                 65        \n",
            "=================================================================\n",
            "Total params: 198,273\n",
            "Trainable params: 198,273\n",
            "Non-trainable params: 0\n",
            "_________________________________________________________________\n",
            "None\n"
          ],
          "name": "stdout"
        }
      ]
    },
    {
      "cell_type": "code",
      "metadata": {
        "colab": {
          "base_uri": "https://localhost:8080/"
        },
        "id": "1NI0IEQSmbl6",
        "outputId": "e9d7944b-af1f-4c16-c114-8b2e46720d27"
      },
      "source": [
        "history = nn.fit(X_train,\n",
        "                 y_train,\n",
        "                 epochs=50,\n",
        "                 batch_size=64,\n",
        "                 validation_data=(X_test, y_test),\n",
        "                 callbacks=callbacks)"
      ],
      "execution_count": 19,
      "outputs": [
        {
          "output_type": "stream",
          "text": [
            "Epoch 1/50\n",
            "2654/2654 [==============================] - 26s 9ms/step - loss: 9323.1010 - mean_absolute_error: 69.6200 - root_mean_squared_error: 95.8844 - val_loss: 7869.3169 - val_mean_absolute_error: 63.9599 - val_root_mean_squared_error: 88.5164\n",
            "Epoch 2/50\n",
            "2654/2654 [==============================] - 24s 9ms/step - loss: 8268.3989 - mean_absolute_error: 65.9686 - root_mean_squared_error: 90.7401 - val_loss: 7866.5361 - val_mean_absolute_error: 66.2702 - val_root_mean_squared_error: 88.5127\n",
            "Epoch 3/50\n",
            "2654/2654 [==============================] - 25s 9ms/step - loss: 8183.2897 - mean_absolute_error: 65.5536 - root_mean_squared_error: 90.2848 - val_loss: 7936.5161 - val_mean_absolute_error: 67.0541 - val_root_mean_squared_error: 88.9056\n",
            "Epoch 4/50\n",
            "2654/2654 [==============================] - 25s 9ms/step - loss: 8123.0251 - mean_absolute_error: 65.3642 - root_mean_squared_error: 89.9489 - val_loss: 7798.5161 - val_mean_absolute_error: 63.8159 - val_root_mean_squared_error: 88.1264\n",
            "Epoch 5/50\n",
            "2654/2654 [==============================] - 25s 10ms/step - loss: 8065.3256 - mean_absolute_error: 65.1185 - root_mean_squared_error: 89.6262 - val_loss: 7755.6606 - val_mean_absolute_error: 64.0544 - val_root_mean_squared_error: 87.8866\n",
            "Epoch 6/50\n",
            "2654/2654 [==============================] - 25s 9ms/step - loss: 8060.1797 - mean_absolute_error: 64.9947 - root_mean_squared_error: 89.6025 - val_loss: 7755.4839 - val_mean_absolute_error: 64.0881 - val_root_mean_squared_error: 87.8926\n",
            "Epoch 7/50\n",
            "2654/2654 [==============================] - 25s 9ms/step - loss: 8000.9160 - mean_absolute_error: 64.8240 - root_mean_squared_error: 89.2774 - val_loss: 7748.7607 - val_mean_absolute_error: 63.9466 - val_root_mean_squared_error: 87.8584\n",
            "Epoch 8/50\n",
            "2654/2654 [==============================] - 26s 10ms/step - loss: 8024.0171 - mean_absolute_error: 65.0246 - root_mean_squared_error: 89.4071 - val_loss: 7752.8018 - val_mean_absolute_error: 64.1226 - val_root_mean_squared_error: 87.8793\n",
            "Epoch 9/50\n",
            "2654/2654 [==============================] - 26s 10ms/step - loss: 8041.3595 - mean_absolute_error: 65.0696 - root_mean_squared_error: 89.5037 - val_loss: 7819.1812 - val_mean_absolute_error: 62.2857 - val_root_mean_squared_error: 88.2561\n",
            "Epoch 10/50\n",
            "2654/2654 [==============================] - 26s 10ms/step - loss: 8084.9247 - mean_absolute_error: 65.1910 - root_mean_squared_error: 89.7458 - val_loss: 7814.0728 - val_mean_absolute_error: 66.5820 - val_root_mean_squared_error: 88.2227\n",
            "Epoch 11/50\n",
            "2654/2654 [==============================] - 25s 10ms/step - loss: 8029.6340 - mean_absolute_error: 64.9375 - root_mean_squared_error: 89.4361 - val_loss: 7736.5020 - val_mean_absolute_error: 62.9419 - val_root_mean_squared_error: 87.7811\n",
            "Epoch 12/50\n",
            "2654/2654 [==============================] - 25s 9ms/step - loss: 8015.8481 - mean_absolute_error: 64.8292 - root_mean_squared_error: 89.3555 - val_loss: 7721.4365 - val_mean_absolute_error: 64.6989 - val_root_mean_squared_error: 87.6945\n",
            "Epoch 13/50\n",
            "2654/2654 [==============================] - 26s 10ms/step - loss: 7984.2580 - mean_absolute_error: 64.8163 - root_mean_squared_error: 89.1771 - val_loss: 7711.3623 - val_mean_absolute_error: 63.8955 - val_root_mean_squared_error: 87.6360\n",
            "Epoch 14/50\n",
            "2654/2654 [==============================] - 25s 10ms/step - loss: 8004.4667 - mean_absolute_error: 64.7895 - root_mean_squared_error: 89.2912 - val_loss: 7741.0532 - val_mean_absolute_error: 62.4358 - val_root_mean_squared_error: 87.8059\n",
            "Epoch 15/50\n",
            "2654/2654 [==============================] - 27s 10ms/step - loss: 8018.8010 - mean_absolute_error: 64.9043 - root_mean_squared_error: 89.3701 - val_loss: 7690.0952 - val_mean_absolute_error: 63.3249 - val_root_mean_squared_error: 87.5117\n",
            "Epoch 16/50\n",
            "2654/2654 [==============================] - 25s 9ms/step - loss: 8006.5393 - mean_absolute_error: 64.8571 - root_mean_squared_error: 89.3001 - val_loss: 7724.7788 - val_mean_absolute_error: 64.9551 - val_root_mean_squared_error: 87.7070\n",
            "Epoch 17/50\n",
            "2654/2654 [==============================] - 25s 10ms/step - loss: 7939.0101 - mean_absolute_error: 64.6290 - root_mean_squared_error: 88.9207 - val_loss: 7723.5483 - val_mean_absolute_error: 62.1316 - val_root_mean_squared_error: 87.7028\n",
            "Epoch 18/50\n",
            "2654/2654 [==============================] - 26s 10ms/step - loss: 7943.2145 - mean_absolute_error: 64.6925 - root_mean_squared_error: 88.9400 - val_loss: 7881.1411 - val_mean_absolute_error: 61.1906 - val_root_mean_squared_error: 88.5996\n",
            "Epoch 19/50\n",
            "2654/2654 [==============================] - 25s 9ms/step - loss: 7937.9857 - mean_absolute_error: 64.5471 - root_mean_squared_error: 88.9145 - val_loss: 7698.7666 - val_mean_absolute_error: 64.8556 - val_root_mean_squared_error: 87.5595\n",
            "Epoch 20/50\n",
            "2654/2654 [==============================] - 24s 9ms/step - loss: 7882.6473 - mean_absolute_error: 64.2597 - root_mean_squared_error: 88.5998 - val_loss: 7672.6113 - val_mean_absolute_error: 63.3856 - val_root_mean_squared_error: 87.4107\n",
            "Epoch 21/50\n",
            "2654/2654 [==============================] - 24s 9ms/step - loss: 7927.9315 - mean_absolute_error: 64.5286 - root_mean_squared_error: 88.8588 - val_loss: 7676.0815 - val_mean_absolute_error: 63.5536 - val_root_mean_squared_error: 87.4301\n",
            "Epoch 22/50\n",
            "2654/2654 [==============================] - 25s 9ms/step - loss: 8005.1441 - mean_absolute_error: 64.8523 - root_mean_squared_error: 89.2905 - val_loss: 7683.6357 - val_mean_absolute_error: 64.6428 - val_root_mean_squared_error: 87.4713\n",
            "Epoch 23/50\n",
            "2654/2654 [==============================] - 25s 9ms/step - loss: 7906.2946 - mean_absolute_error: 64.4064 - root_mean_squared_error: 88.7343 - val_loss: 7685.9507 - val_mean_absolute_error: 64.8887 - val_root_mean_squared_error: 87.4826\n",
            "Epoch 24/50\n",
            "2654/2654 [==============================] - 25s 9ms/step - loss: 7992.6632 - mean_absolute_error: 64.8579 - root_mean_squared_error: 89.2187 - val_loss: 7658.4878 - val_mean_absolute_error: 63.3586 - val_root_mean_squared_error: 87.3259\n",
            "Epoch 25/50\n",
            "2654/2654 [==============================] - 25s 9ms/step - loss: 7934.7163 - mean_absolute_error: 64.4549 - root_mean_squared_error: 88.8908 - val_loss: 7651.9795 - val_mean_absolute_error: 63.4153 - val_root_mean_squared_error: 87.2916\n",
            "Epoch 26/50\n",
            "2654/2654 [==============================] - 24s 9ms/step - loss: 7995.4189 - mean_absolute_error: 64.7889 - root_mean_squared_error: 89.2356 - val_loss: 7665.7671 - val_mean_absolute_error: 62.9676 - val_root_mean_squared_error: 87.3714\n",
            "Epoch 27/50\n",
            "2654/2654 [==============================] - 25s 9ms/step - loss: 7956.7526 - mean_absolute_error: 64.6099 - root_mean_squared_error: 89.0201 - val_loss: 7672.4580 - val_mean_absolute_error: 62.3913 - val_root_mean_squared_error: 87.4113\n",
            "Epoch 28/50\n",
            "2654/2654 [==============================] - 25s 10ms/step - loss: 7942.6892 - mean_absolute_error: 64.5487 - root_mean_squared_error: 88.9392 - val_loss: 7639.0679 - val_mean_absolute_error: 63.2736 - val_root_mean_squared_error: 87.2203\n",
            "Epoch 29/50\n",
            "2654/2654 [==============================] - 25s 9ms/step - loss: 7954.5067 - mean_absolute_error: 64.6735 - root_mean_squared_error: 89.0081 - val_loss: 7681.0957 - val_mean_absolute_error: 62.4185 - val_root_mean_squared_error: 87.4606\n",
            "Epoch 30/50\n",
            "2654/2654 [==============================] - 24s 9ms/step - loss: 7914.4888 - mean_absolute_error: 64.3727 - root_mean_squared_error: 88.7836 - val_loss: 7682.1802 - val_mean_absolute_error: 65.0537 - val_root_mean_squared_error: 87.4673\n",
            "Epoch 31/50\n",
            "2654/2654 [==============================] - 25s 9ms/step - loss: 7936.3588 - mean_absolute_error: 64.4849 - root_mean_squared_error: 88.9091 - val_loss: 7640.7881 - val_mean_absolute_error: 63.2280 - val_root_mean_squared_error: 87.2306\n",
            "Epoch 32/50\n",
            "2654/2654 [==============================] - 25s 10ms/step - loss: 7950.3018 - mean_absolute_error: 64.5592 - root_mean_squared_error: 88.9805 - val_loss: 7643.7368 - val_mean_absolute_error: 63.5089 - val_root_mean_squared_error: 87.2479\n",
            "Epoch 33/50\n",
            "2654/2654 [==============================] - 25s 9ms/step - loss: 7883.8120 - mean_absolute_error: 64.4161 - root_mean_squared_error: 88.6105 - val_loss: 7654.3691 - val_mean_absolute_error: 62.5304 - val_root_mean_squared_error: 87.3112\n"
          ],
          "name": "stdout"
        }
      ]
    },
    {
      "cell_type": "code",
      "metadata": {
        "colab": {
          "base_uri": "https://localhost:8080/"
        },
        "id": "WytY2M6Vm2Bh",
        "outputId": "6bc53cd8-dce2-476b-b072-e1cb94b1ff63"
      },
      "source": [
        "# Serialize Model to JSON:\n",
        "import joblib\n",
        "\n",
        "np.random.seed(12)\n",
        "\n",
        "model_json = nn.to_json()\n",
        "with open(\"nn.json\", \"w\") as json_file:\n",
        "  json_file.write(model_json)\n",
        "\n",
        "nn.save_weights('nn.h5')\n",
        "\n",
        "joblib.dump(MMS, 'MMS.gz')\n",
        "joblib.dump(enc, 'encoder.gz')\n"
      ],
      "execution_count": 23,
      "outputs": [
        {
          "output_type": "execute_result",
          "data": {
            "text/plain": [
              "['encoder.gz']"
            ]
          },
          "metadata": {
            "tags": []
          },
          "execution_count": 23
        }
      ]
    },
    {
      "cell_type": "code",
      "metadata": {
        "id": "hhfxI9nPrzaZ"
      },
      "source": [
        "# Load Serialized Model to Reuse:\n",
        "\n",
        "json_file = open('nn.json', 'r')\n",
        "loaded_model_json = json_file.read()\n",
        "json_file.close()\n",
        "\n",
        "loaded_model = model_from_json(loaded_model_json)\n",
        "loaded_model.load_weights('nn.h5')"
      ],
      "execution_count": 24,
      "outputs": []
    },
    {
      "cell_type": "code",
      "metadata": {
        "id": "lyyjpE_Dsjld"
      },
      "source": [
        "# # Test on prediction:\n",
        "\n",
        "# pred = np.array([[0,2,2,300,20]])\n",
        "# prediction = data_pipeline.transform(pred)\n",
        "# # transformed_prediction = MMS.transform(encoded_prediction)"
      ],
      "execution_count": 53,
      "outputs": []
    },
    {
      "cell_type": "code",
      "metadata": {
        "colab": {
          "base_uri": "https://localhost:8080/"
        },
        "id": "WL2or0-vtIxh",
        "outputId": "07caaed3-0d7b-4944-a0be-287a9d3853b5"
      },
      "source": [
        "# Original Model:\n",
        "\n",
        "nn.predict(transformed_prediction)[0][0]"
      ],
      "execution_count": 72,
      "outputs": [
        {
          "output_type": "execute_result",
          "data": {
            "text/plain": [
              "185.5262"
            ]
          },
          "metadata": {
            "tags": []
          },
          "execution_count": 72
        }
      ]
    },
    {
      "cell_type": "code",
      "metadata": {
        "id": "zprwdTOFtN2H"
      },
      "source": [
        "# # Loaded Model w/ saved weights:\n",
        "\n",
        "# loaded_model.predict(transformed_prediction)[0][0]\n"
      ],
      "execution_count": 54,
      "outputs": []
    },
    {
      "cell_type": "code",
      "metadata": {
        "id": "2jUYk6LitO-y"
      },
      "source": [
        "import joblib\n",
        "\n",
        "def predict_opt_price(neighborhood, room_type, city, availability_365, minimum_nights):\n",
        "  # Import weights and load model to predict:\n",
        "  json_file = open('nn.json', 'r')\n",
        "  loaded_model_json = json_file.read()\n",
        "  json_file.close()\n",
        "\n",
        "  loaded_model = model_from_json(loaded_model_json)\n",
        "  loaded_model.load_weights('nn.h5')\n",
        "\n",
        "  # Load Transformations:\n",
        "  MMS = joblib.load('MMS.gz')\n",
        "  enc = joblib.load('encoder.gz')\n",
        "  # raw_data = np.array([[neighborhood, room_type, minimum_nights, availability_365, city]])\n",
        "  catcols = np.array([[neighborhood, room_type, city]])\n",
        "  numcols = np.array([[availability_365, minimum_nights]])\n",
        "\n",
        "  s1 = enc.transform(catcols)\n",
        "\n",
        "  array_joined = np.append(s1, numcols, axis=1)\n",
        "\n",
        "  transformed = MMS.transform(array_joined)\n",
        "\n",
        "  prediction = loaded_model.predict(transformed)[0][0]\n",
        "\n",
        "  return prediction"
      ],
      "execution_count": 50,
      "outputs": []
    },
    {
      "cell_type": "code",
      "metadata": {
        "colab": {
          "base_uri": "https://localhost:8080/"
        },
        "id": "2KOxFXkux6eY",
        "outputId": "93af0a0e-37fa-41fc-cba7-024fd0f855b0"
      },
      "source": [
        "predict_opt_price(neighborhood='Madrona', room_type='Entire home/apt', minimum_nights=5, availability_365=70, city='Seattle')"
      ],
      "execution_count": 52,
      "outputs": [
        {
          "output_type": "execute_result",
          "data": {
            "text/plain": [
              "155.16331"
            ]
          },
          "metadata": {
            "tags": []
          },
          "execution_count": 52
        }
      ]
    },
    {
      "cell_type": "code",
      "metadata": {
        "colab": {
          "base_uri": "https://localhost:8080/"
        },
        "id": "-hAkgM2MyGq4",
        "outputId": "2c68ab11-2fad-4bc0-8957-265cff02a80a"
      },
      "source": [
        "# enc.categories_"
      ],
      "execution_count": 46,
      "outputs": [
        {
          "output_type": "execute_result",
          "data": {
            "text/plain": [
              "[array(['28704', '28715', '28732', ..., 'Wright', 'Yesler Terrace',\n",
              "        'Yosemite Dr'], dtype=object),\n",
              " array(['Entire home/apt', 'Hotel room', 'Private room', 'Shared room'],\n",
              "       dtype=object),\n",
              " array(['Asheville', 'Austin', 'Boston', 'Broward County', 'Cambridge',\n",
              "        'Chicago', 'Clark County', 'Columbus', 'Denver', 'Hawaii',\n",
              "        'Jersey City', 'Los Angeles', 'Nashville', 'New Orleans',\n",
              "        'New York City', 'Oakland', 'Pacific Grove', 'Portland',\n",
              "        'Rhode Island', 'Salem', 'San Clara Country', 'San Diego',\n",
              "        'San Francisco', 'San Mateo County', 'Santa Cruz County',\n",
              "        'Seattle', 'Twin Cities MSA', 'Washington D.C.'], dtype=object)]"
            ]
          },
          "metadata": {
            "tags": []
          },
          "execution_count": 46
        }
      ]
    },
    {
      "cell_type": "code",
      "metadata": {
        "colab": {
          "base_uri": "https://localhost:8080/",
          "height": 928
        },
        "id": "4dRhQ7i0GgQ-",
        "outputId": "5820c2b7-140c-4ddf-dc53-6b24984a1f16"
      },
      "source": [
        "df1"
      ],
      "execution_count": 48,
      "outputs": [
        {
          "output_type": "execute_result",
          "data": {
            "text/html": [
              "<div>\n",
              "<style scoped>\n",
              "    .dataframe tbody tr th:only-of-type {\n",
              "        vertical-align: middle;\n",
              "    }\n",
              "\n",
              "    .dataframe tbody tr th {\n",
              "        vertical-align: top;\n",
              "    }\n",
              "\n",
              "    .dataframe thead th {\n",
              "        text-align: right;\n",
              "    }\n",
              "</style>\n",
              "<table border=\"1\" class=\"dataframe\">\n",
              "  <thead>\n",
              "    <tr style=\"text-align: right;\">\n",
              "      <th></th>\n",
              "      <th>city</th>\n",
              "      <th>neighborhood_list</th>\n",
              "    </tr>\n",
              "  </thead>\n",
              "  <tbody>\n",
              "    <tr>\n",
              "      <th>0</th>\n",
              "      <td>Asheville</td>\n",
              "      <td>[28804, 28801, 28801, 28806, 28801, 28804, 288...</td>\n",
              "    </tr>\n",
              "    <tr>\n",
              "      <th>1</th>\n",
              "      <td>Austin</td>\n",
              "      <td>[78702, 78702, 78702, 78704, 78729, 78704, 787...</td>\n",
              "    </tr>\n",
              "    <tr>\n",
              "      <th>2</th>\n",
              "      <td>Boston</td>\n",
              "      <td>[East Boston, Roxbury, Roxbury, Downtown, Back...</td>\n",
              "    </tr>\n",
              "    <tr>\n",
              "      <th>3</th>\n",
              "      <td>Broward County</td>\n",
              "      <td>[Fort Lauderdale, Hollywood, Hallandale Beach,...</td>\n",
              "    </tr>\n",
              "    <tr>\n",
              "      <th>4</th>\n",
              "      <td>Cambridge</td>\n",
              "      <td>[West Cambridge, North Cambridge, North Cambri...</td>\n",
              "    </tr>\n",
              "    <tr>\n",
              "      <th>5</th>\n",
              "      <td>Chicago</td>\n",
              "      <td>[Hyde Park, South Lawndale, West Town, Lincoln...</td>\n",
              "    </tr>\n",
              "    <tr>\n",
              "      <th>6</th>\n",
              "      <td>Clark County</td>\n",
              "      <td>[Unincorporated Areas, Unincorporated Areas, U...</td>\n",
              "    </tr>\n",
              "    <tr>\n",
              "      <th>7</th>\n",
              "      <td>Columbus</td>\n",
              "      <td>[Near North/University, Near North/University,...</td>\n",
              "    </tr>\n",
              "    <tr>\n",
              "      <th>8</th>\n",
              "      <td>Denver</td>\n",
              "      <td>[Virginia Village, Highland, Five Points, Nort...</td>\n",
              "    </tr>\n",
              "    <tr>\n",
              "      <th>9</th>\n",
              "      <td>Hawaii</td>\n",
              "      <td>[Hamakua, South Kohala, South Kona, North Kona...</td>\n",
              "    </tr>\n",
              "    <tr>\n",
              "      <th>10</th>\n",
              "      <td>Jersey City</td>\n",
              "      <td>[Ward E (councilmember James Solomon), Ward C ...</td>\n",
              "    </tr>\n",
              "    <tr>\n",
              "      <th>11</th>\n",
              "      <td>Los Angeles</td>\n",
              "      <td>[Culver City, Burbank, Hollywood, Santa Monica...</td>\n",
              "    </tr>\n",
              "    <tr>\n",
              "      <th>12</th>\n",
              "      <td>Nashville</td>\n",
              "      <td>[District 6, District 7, District 7, District ...</td>\n",
              "    </tr>\n",
              "    <tr>\n",
              "      <th>13</th>\n",
              "      <td>New Orleans</td>\n",
              "      <td>[Navarre, Leonidas, Marigny, St. Claude, St. R...</td>\n",
              "    </tr>\n",
              "    <tr>\n",
              "      <th>14</th>\n",
              "      <td>New York City</td>\n",
              "      <td>[Midtown, Clinton Hill, Bedford-Stuyvesant, Su...</td>\n",
              "    </tr>\n",
              "    <tr>\n",
              "      <th>15</th>\n",
              "      <td>Oakland</td>\n",
              "      <td>[Prescott, Oakland Ave-Harrison St, Shafter, S...</td>\n",
              "    </tr>\n",
              "    <tr>\n",
              "      <th>16</th>\n",
              "      <td>Pacific Grove</td>\n",
              "      <td>[Pacific Grove, Pacific Grove, Pacific Grove, ...</td>\n",
              "    </tr>\n",
              "    <tr>\n",
              "      <th>17</th>\n",
              "      <td>Portland</td>\n",
              "      <td>[Pearl, Hayhurst, Pearl, Woodlawn, Roseway, La...</td>\n",
              "    </tr>\n",
              "    <tr>\n",
              "      <th>18</th>\n",
              "      <td>Rhode Island</td>\n",
              "      <td>[Glocester, Narragansett, Pawtucket, Pawtucket...</td>\n",
              "    </tr>\n",
              "    <tr>\n",
              "      <th>19</th>\n",
              "      <td>Salem</td>\n",
              "      <td>[Ward 1, Ward 3, Ward 7, Ward 1, Ward 2, Ward ...</td>\n",
              "    </tr>\n",
              "    <tr>\n",
              "      <th>20</th>\n",
              "      <td>San Clara Country</td>\n",
              "      <td>[Palo Alto, Santa Clara, Mountain View, Palo A...</td>\n",
              "    </tr>\n",
              "    <tr>\n",
              "      <th>21</th>\n",
              "      <td>San Diego</td>\n",
              "      <td>[Pacific Beach, Roseville, North Hills, La Jol...</td>\n",
              "    </tr>\n",
              "    <tr>\n",
              "      <th>22</th>\n",
              "      <td>San Francisco</td>\n",
              "      <td>[Western Addition, Bernal Heights, Haight Ashb...</td>\n",
              "    </tr>\n",
              "    <tr>\n",
              "      <th>23</th>\n",
              "      <td>San Mateo County</td>\n",
              "      <td>[Menlo Park, Pacifica, Burlingame, Burlingame,...</td>\n",
              "    </tr>\n",
              "    <tr>\n",
              "      <th>24</th>\n",
              "      <td>Santa Cruz County</td>\n",
              "      <td>[Unincorporated Areas, City of Santa Cruz, Cit...</td>\n",
              "    </tr>\n",
              "    <tr>\n",
              "      <th>25</th>\n",
              "      <td>Seattle</td>\n",
              "      <td>[Madrona, Georgetown, Fairmount Park, Fairmoun...</td>\n",
              "    </tr>\n",
              "    <tr>\n",
              "      <th>26</th>\n",
              "      <td>Twin Cities MSA</td>\n",
              "      <td>[Hennepin, Hennepin, Hennepin, Hennepin, Ramse...</td>\n",
              "    </tr>\n",
              "    <tr>\n",
              "      <th>27</th>\n",
              "      <td>Washington D.C.</td>\n",
              "      <td>[Historic Anacostia, Edgewood, Bloomingdale, T...</td>\n",
              "    </tr>\n",
              "  </tbody>\n",
              "</table>\n",
              "</div>"
            ],
            "text/plain": [
              "                 city                                  neighborhood_list\n",
              "0           Asheville  [28804, 28801, 28801, 28806, 28801, 28804, 288...\n",
              "1              Austin  [78702, 78702, 78702, 78704, 78729, 78704, 787...\n",
              "2              Boston  [East Boston, Roxbury, Roxbury, Downtown, Back...\n",
              "3      Broward County  [Fort Lauderdale, Hollywood, Hallandale Beach,...\n",
              "4           Cambridge  [West Cambridge, North Cambridge, North Cambri...\n",
              "5             Chicago  [Hyde Park, South Lawndale, West Town, Lincoln...\n",
              "6        Clark County  [Unincorporated Areas, Unincorporated Areas, U...\n",
              "7            Columbus  [Near North/University, Near North/University,...\n",
              "8              Denver  [Virginia Village, Highland, Five Points, Nort...\n",
              "9              Hawaii  [Hamakua, South Kohala, South Kona, North Kona...\n",
              "10        Jersey City  [Ward E (councilmember James Solomon), Ward C ...\n",
              "11        Los Angeles  [Culver City, Burbank, Hollywood, Santa Monica...\n",
              "12          Nashville  [District 6, District 7, District 7, District ...\n",
              "13        New Orleans  [Navarre, Leonidas, Marigny, St. Claude, St. R...\n",
              "14      New York City  [Midtown, Clinton Hill, Bedford-Stuyvesant, Su...\n",
              "15            Oakland  [Prescott, Oakland Ave-Harrison St, Shafter, S...\n",
              "16      Pacific Grove  [Pacific Grove, Pacific Grove, Pacific Grove, ...\n",
              "17           Portland  [Pearl, Hayhurst, Pearl, Woodlawn, Roseway, La...\n",
              "18       Rhode Island  [Glocester, Narragansett, Pawtucket, Pawtucket...\n",
              "19              Salem  [Ward 1, Ward 3, Ward 7, Ward 1, Ward 2, Ward ...\n",
              "20  San Clara Country  [Palo Alto, Santa Clara, Mountain View, Palo A...\n",
              "21          San Diego  [Pacific Beach, Roseville, North Hills, La Jol...\n",
              "22      San Francisco  [Western Addition, Bernal Heights, Haight Ashb...\n",
              "23   San Mateo County  [Menlo Park, Pacifica, Burlingame, Burlingame,...\n",
              "24  Santa Cruz County  [Unincorporated Areas, City of Santa Cruz, Cit...\n",
              "25            Seattle  [Madrona, Georgetown, Fairmount Park, Fairmoun...\n",
              "26    Twin Cities MSA  [Hennepin, Hennepin, Hennepin, Hennepin, Ramse...\n",
              "27    Washington D.C.  [Historic Anacostia, Edgewood, Bloomingdale, T..."
            ]
          },
          "metadata": {
            "tags": []
          },
          "execution_count": 48
        }
      ]
    },
    {
      "cell_type": "code",
      "metadata": {
        "id": "c9urr3LrHJZh"
      },
      "source": [
        ""
      ],
      "execution_count": null,
      "outputs": []
    }
  ]
}