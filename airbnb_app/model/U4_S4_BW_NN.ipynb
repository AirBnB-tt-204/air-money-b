{
  "nbformat": 4,
  "nbformat_minor": 0,
  "metadata": {
    "colab": {
      "name": "U4-S4-BW-NN",
      "provenance": [],
      "collapsed_sections": []
    },
    "kernelspec": {
      "name": "python3",
      "display_name": "Python 3"
    }
  },
  "cells": [
    {
      "cell_type": "code",
      "metadata": {
        "id": "OTtGshXOf5kM"
      },
      "source": [
        "import os\n",
        "import numpy as np\n",
        "import pandas as pd\n",
        "\n",
        "import tensorflow as tf\n",
        "from sklearn.preprocessing import MinMaxScaler\n",
        "from sklearn.pipeline import Pipeline\n",
        "from sklearn.preprocessing import OrdinalEncoder\n",
        "from sklearn.model_selection import train_test_split\n",
        "from tensorflow.keras.models import Sequential\n",
        "from tensorflow.keras.layers import Dense, Dropout\n",
        "from tensorflow.keras.models import model_from_json\n",
        "from keras import regularizers\n",
        "\n",
        "tf.keras.backend.set_floatx('float32')"
      ],
      "execution_count": 1,
      "outputs": []
    },
    {
      "cell_type": "code",
      "metadata": {
        "colab": {
          "base_uri": "https://localhost:8080/"
        },
        "id": "ruJqAh1rg58Q",
        "outputId": "a2c77cc6-2dd7-46f8-b396-4be9ab1e2959"
      },
      "source": [
        "# read in data:\n",
        "df = pd.read_csv('/content/drive/MyDrive/AB_US_2020.csv')\n",
        "df.shape"
      ],
      "execution_count": 2,
      "outputs": [
        {
          "output_type": "stream",
          "text": [
            "/usr/local/lib/python3.7/dist-packages/IPython/core/interactiveshell.py:2718: DtypeWarning: Columns (4) have mixed types.Specify dtype option on import or set low_memory=False.\n",
            "  interactivity=interactivity, compiler=compiler, result=result)\n"
          ],
          "name": "stderr"
        },
        {
          "output_type": "execute_result",
          "data": {
            "text/plain": [
              "(226030, 17)"
            ]
          },
          "metadata": {
            "tags": []
          },
          "execution_count": 2
        }
      ]
    },
    {
      "cell_type": "code",
      "metadata": {
        "colab": {
          "base_uri": "https://localhost:8080/"
        },
        "id": "11D8P6DZhHxZ",
        "outputId": "48bcaabc-af0d-4bcf-fd84-91fa3307105d"
      },
      "source": [
        "df.columns"
      ],
      "execution_count": 3,
      "outputs": [
        {
          "output_type": "execute_result",
          "data": {
            "text/plain": [
              "Index(['id', 'name', 'host_id', 'host_name', 'neighbourhood_group',\n",
              "       'neighbourhood', 'latitude', 'longitude', 'room_type', 'price',\n",
              "       'minimum_nights', 'number_of_reviews', 'last_review',\n",
              "       'reviews_per_month', 'calculated_host_listings_count',\n",
              "       'availability_365', 'city'],\n",
              "      dtype='object')"
            ]
          },
          "metadata": {
            "tags": []
          },
          "execution_count": 3
        }
      ]
    },
    {
      "cell_type": "code",
      "metadata": {
        "colab": {
          "base_uri": "https://localhost:8080/"
        },
        "id": "3o5cb1TlhQHF",
        "outputId": "1d1542ea-d91b-4b45-ada6-d5602a5737cb"
      },
      "source": [
        "# Drop Unusable columns\n",
        "columns = ['id',\n",
        "           'neighbourhood_group',\n",
        "           'last_review',\n",
        "           'reviews_per_month',\n",
        "           'name',\n",
        "           'host_name',\n",
        "           'latitude',\n",
        "           'longitude',\n",
        "           'number_of_reviews',\n",
        "           'host_id',\n",
        "           'calculated_host_listings_count']\n",
        "\n",
        "df = df.drop(columns, axis=1)\n",
        "df.shape"
      ],
      "execution_count": 4,
      "outputs": [
        {
          "output_type": "execute_result",
          "data": {
            "text/plain": [
              "(226030, 6)"
            ]
          },
          "metadata": {
            "tags": []
          },
          "execution_count": 4
        }
      ]
    },
    {
      "cell_type": "code",
      "metadata": {
        "colab": {
          "base_uri": "https://localhost:8080/",
          "height": 424
        },
        "id": "rzVjyfUtAzmJ",
        "outputId": "cf55e51d-c5bf-4734-951a-738b8e874fd5"
      },
      "source": [
        "df"
      ],
      "execution_count": 5,
      "outputs": [
        {
          "output_type": "execute_result",
          "data": {
            "text/html": [
              "<div>\n",
              "<style scoped>\n",
              "    .dataframe tbody tr th:only-of-type {\n",
              "        vertical-align: middle;\n",
              "    }\n",
              "\n",
              "    .dataframe tbody tr th {\n",
              "        vertical-align: top;\n",
              "    }\n",
              "\n",
              "    .dataframe thead th {\n",
              "        text-align: right;\n",
              "    }\n",
              "</style>\n",
              "<table border=\"1\" class=\"dataframe\">\n",
              "  <thead>\n",
              "    <tr style=\"text-align: right;\">\n",
              "      <th></th>\n",
              "      <th>neighbourhood</th>\n",
              "      <th>room_type</th>\n",
              "      <th>price</th>\n",
              "      <th>minimum_nights</th>\n",
              "      <th>availability_365</th>\n",
              "      <th>city</th>\n",
              "    </tr>\n",
              "  </thead>\n",
              "  <tbody>\n",
              "    <tr>\n",
              "      <th>0</th>\n",
              "      <td>28804</td>\n",
              "      <td>Private room</td>\n",
              "      <td>60</td>\n",
              "      <td>1</td>\n",
              "      <td>0</td>\n",
              "      <td>Asheville</td>\n",
              "    </tr>\n",
              "    <tr>\n",
              "      <th>1</th>\n",
              "      <td>28801</td>\n",
              "      <td>Entire home/apt</td>\n",
              "      <td>470</td>\n",
              "      <td>1</td>\n",
              "      <td>288</td>\n",
              "      <td>Asheville</td>\n",
              "    </tr>\n",
              "    <tr>\n",
              "      <th>2</th>\n",
              "      <td>28801</td>\n",
              "      <td>Entire home/apt</td>\n",
              "      <td>75</td>\n",
              "      <td>30</td>\n",
              "      <td>298</td>\n",
              "      <td>Asheville</td>\n",
              "    </tr>\n",
              "    <tr>\n",
              "      <th>3</th>\n",
              "      <td>28806</td>\n",
              "      <td>Entire home/apt</td>\n",
              "      <td>90</td>\n",
              "      <td>1</td>\n",
              "      <td>0</td>\n",
              "      <td>Asheville</td>\n",
              "    </tr>\n",
              "    <tr>\n",
              "      <th>4</th>\n",
              "      <td>28801</td>\n",
              "      <td>Private room</td>\n",
              "      <td>125</td>\n",
              "      <td>30</td>\n",
              "      <td>0</td>\n",
              "      <td>Asheville</td>\n",
              "    </tr>\n",
              "    <tr>\n",
              "      <th>...</th>\n",
              "      <td>...</td>\n",
              "      <td>...</td>\n",
              "      <td>...</td>\n",
              "      <td>...</td>\n",
              "      <td>...</td>\n",
              "      <td>...</td>\n",
              "    </tr>\n",
              "    <tr>\n",
              "      <th>226025</th>\n",
              "      <td>Downtown, Chinatown, Penn Quarters, Mount Vern...</td>\n",
              "      <td>Entire home/apt</td>\n",
              "      <td>104</td>\n",
              "      <td>1</td>\n",
              "      <td>99</td>\n",
              "      <td>Washington D.C.</td>\n",
              "    </tr>\n",
              "    <tr>\n",
              "      <th>226026</th>\n",
              "      <td>Brookland, Brentwood, Langdon</td>\n",
              "      <td>Entire home/apt</td>\n",
              "      <td>151</td>\n",
              "      <td>2</td>\n",
              "      <td>300</td>\n",
              "      <td>Washington D.C.</td>\n",
              "    </tr>\n",
              "    <tr>\n",
              "      <th>226027</th>\n",
              "      <td>Shaw, Logan Circle</td>\n",
              "      <td>Entire home/apt</td>\n",
              "      <td>240</td>\n",
              "      <td>2</td>\n",
              "      <td>173</td>\n",
              "      <td>Washington D.C.</td>\n",
              "    </tr>\n",
              "    <tr>\n",
              "      <th>226028</th>\n",
              "      <td>Kalorama Heights, Adams Morgan, Lanier Heights</td>\n",
              "      <td>Entire home/apt</td>\n",
              "      <td>60</td>\n",
              "      <td>21</td>\n",
              "      <td>362</td>\n",
              "      <td>Washington D.C.</td>\n",
              "    </tr>\n",
              "    <tr>\n",
              "      <th>226029</th>\n",
              "      <td>Edgewood, Bloomingdale, Truxton Circle, Eckington</td>\n",
              "      <td>Entire home/apt</td>\n",
              "      <td>79</td>\n",
              "      <td>7</td>\n",
              "      <td>62</td>\n",
              "      <td>Washington D.C.</td>\n",
              "    </tr>\n",
              "  </tbody>\n",
              "</table>\n",
              "<p>226030 rows × 6 columns</p>\n",
              "</div>"
            ],
            "text/plain": [
              "                                            neighbourhood  ...             city\n",
              "0                                                   28804  ...        Asheville\n",
              "1                                                   28801  ...        Asheville\n",
              "2                                                   28801  ...        Asheville\n",
              "3                                                   28806  ...        Asheville\n",
              "4                                                   28801  ...        Asheville\n",
              "...                                                   ...  ...              ...\n",
              "226025  Downtown, Chinatown, Penn Quarters, Mount Vern...  ...  Washington D.C.\n",
              "226026                      Brookland, Brentwood, Langdon  ...  Washington D.C.\n",
              "226027                                 Shaw, Logan Circle  ...  Washington D.C.\n",
              "226028     Kalorama Heights, Adams Morgan, Lanier Heights  ...  Washington D.C.\n",
              "226029  Edgewood, Bloomingdale, Truxton Circle, Eckington  ...  Washington D.C.\n",
              "\n",
              "[226030 rows x 6 columns]"
            ]
          },
          "metadata": {
            "tags": []
          },
          "execution_count": 5
        }
      ]
    },
    {
      "cell_type": "code",
      "metadata": {
        "colab": {
          "base_uri": "https://localhost:8080/"
        },
        "id": "R20FyZcSijY8",
        "outputId": "a51e3a50-58c3-4c20-b1d2-084347830842"
      },
      "source": [
        "# factorize non-numeric categorical data,\n",
        "# simple process on data for preparation to train\n",
        "\n",
        "cat_cols = ['neighbourhood', 'room_type', 'city']\n",
        "\n",
        "# enc = OrdinalEncoder()\n",
        "\n",
        "\n",
        "# df['neighbourhood'] = pd.factorize(df.neighbourhood)[0]\n",
        "# df['room_type'] = pd.factorize(df.room_type)[0]\n",
        "# df['city'] = pd.factorize(df.city)[0]\n",
        "df['price'] = df['price'].astype(float)\n",
        "\n",
        "df = df[df['price'] <= 501]\n",
        "\n",
        "df.shape"
      ],
      "execution_count": 6,
      "outputs": [
        {
          "output_type": "execute_result",
          "data": {
            "text/plain": [
              "(212300, 6)"
            ]
          },
          "metadata": {
            "tags": []
          },
          "execution_count": 6
        }
      ]
    },
    {
      "cell_type": "code",
      "metadata": {
        "colab": {
          "base_uri": "https://localhost:8080/"
        },
        "id": "u12S_AecjpGY",
        "outputId": "70a9e85c-4200-42bc-aab7-6fa0cf3faa82"
      },
      "source": [
        "df.isnull().sum()"
      ],
      "execution_count": 7,
      "outputs": [
        {
          "output_type": "execute_result",
          "data": {
            "text/plain": [
              "neighbourhood       0\n",
              "room_type           0\n",
              "price               0\n",
              "minimum_nights      0\n",
              "availability_365    0\n",
              "city                0\n",
              "dtype: int64"
            ]
          },
          "metadata": {
            "tags": []
          },
          "execution_count": 7
        }
      ]
    },
    {
      "cell_type": "code",
      "metadata": {
        "id": "5MVYye6CCs0t"
      },
      "source": [
        "df1 = df.groupby('city').neighbourhood.apply(list).reset_index(name='neighborhood_list')\n",
        "df1.to_csv('city_neighborhood.csv')\n",
        "# df1"
      ],
      "execution_count": 35,
      "outputs": []
    },
    {
      "cell_type": "code",
      "metadata": {
        "id": "ofCLpF-85luo"
      },
      "source": [
        "MMS = MinMaxScaler()\n",
        "enc = OrdinalEncoder()\n",
        "\n",
        "dfcat = df[cat_cols]\n",
        "dfcat = enc.fit_transform(dfcat)"
      ],
      "execution_count": 8,
      "outputs": []
    },
    {
      "cell_type": "code",
      "metadata": {
        "colab": {
          "base_uri": "https://localhost:8080/"
        },
        "id": "qyJpSqFq8W2g",
        "outputId": "f580f029-4dfb-44c9-b148-f1ee035eb86d"
      },
      "source": [
        "dfcat"
      ],
      "execution_count": 9,
      "outputs": [
        {
          "output_type": "execute_result",
          "data": {
            "text/plain": [
              "array([[   5.,    2.,    0.],\n",
              "       [   3.,    0.,    0.],\n",
              "       [   3.,    0.,    0.],\n",
              "       ...,\n",
              "       [1158.,    0.,   27.],\n",
              "       [ 675.,    0.,   27.],\n",
              "       [ 448.,    0.,   27.]])"
            ]
          },
          "metadata": {
            "tags": []
          },
          "execution_count": 9
        }
      ]
    },
    {
      "cell_type": "code",
      "metadata": {
        "id": "_Cjw6wiX7WvQ"
      },
      "source": [
        "dfnum = df[['availability_365', 'minimum_nights']].values"
      ],
      "execution_count": 10,
      "outputs": []
    },
    {
      "cell_type": "code",
      "metadata": {
        "colab": {
          "base_uri": "https://localhost:8080/"
        },
        "id": "iQJnkEH87ohZ",
        "outputId": "65536d9b-061a-4245-9bb1-4f9f150b8a29"
      },
      "source": [
        "dfnum"
      ],
      "execution_count": 11,
      "outputs": [
        {
          "output_type": "execute_result",
          "data": {
            "text/plain": [
              "array([[  0,   1],\n",
              "       [288,   1],\n",
              "       [298,  30],\n",
              "       ...,\n",
              "       [173,   2],\n",
              "       [362,  21],\n",
              "       [ 62,   7]])"
            ]
          },
          "metadata": {
            "tags": []
          },
          "execution_count": 11
        }
      ]
    },
    {
      "cell_type": "code",
      "metadata": {
        "colab": {
          "base_uri": "https://localhost:8080/"
        },
        "id": "1XOcwy0V6Qxf",
        "outputId": "ce873e08-aa66-4303-885b-6f6fc9fd79ea"
      },
      "source": [
        "df_joined = np.append(dfcat, dfnum, axis=1)\n",
        "df_joined"
      ],
      "execution_count": 12,
      "outputs": [
        {
          "output_type": "execute_result",
          "data": {
            "text/plain": [
              "array([[5.000e+00, 2.000e+00, 0.000e+00, 0.000e+00, 1.000e+00],\n",
              "       [3.000e+00, 0.000e+00, 0.000e+00, 2.880e+02, 1.000e+00],\n",
              "       [3.000e+00, 0.000e+00, 0.000e+00, 2.980e+02, 3.000e+01],\n",
              "       ...,\n",
              "       [1.158e+03, 0.000e+00, 2.700e+01, 1.730e+02, 2.000e+00],\n",
              "       [6.750e+02, 0.000e+00, 2.700e+01, 3.620e+02, 2.100e+01],\n",
              "       [4.480e+02, 0.000e+00, 2.700e+01, 6.200e+01, 7.000e+00]])"
            ]
          },
          "metadata": {
            "tags": []
          },
          "execution_count": 12
        }
      ]
    },
    {
      "cell_type": "code",
      "metadata": {
        "id": "EFTOUWzA7Vnw"
      },
      "source": [
        "df_scaled = MMS.fit_transform(df_joined)"
      ],
      "execution_count": 13,
      "outputs": []
    },
    {
      "cell_type": "code",
      "metadata": {
        "colab": {
          "base_uri": "https://localhost:8080/"
        },
        "id": "s1m_CYfm7VMe",
        "outputId": "924e1b40-dc5d-4d6a-f811-1d67ea9fdf57"
      },
      "source": [
        "df_scaled"
      ],
      "execution_count": 14,
      "outputs": [
        {
          "output_type": "execute_result",
          "data": {
            "text/plain": [
              "array([[3.45542502e-03, 6.66666667e-01, 0.00000000e+00, 0.00000000e+00,\n",
              "        0.00000000e+00],\n",
              "       [2.07325501e-03, 0.00000000e+00, 0.00000000e+00, 7.89041096e-01,\n",
              "        0.00000000e+00],\n",
              "       [2.07325501e-03, 0.00000000e+00, 0.00000000e+00, 8.16438356e-01,\n",
              "        2.90000003e-07],\n",
              "       ...,\n",
              "       [8.00276434e-01, 0.00000000e+00, 1.00000000e+00, 4.73972603e-01,\n",
              "        1.00000001e-08],\n",
              "       [4.66482377e-01, 0.00000000e+00, 1.00000000e+00, 9.91780822e-01,\n",
              "        2.00000002e-07],\n",
              "       [3.09606082e-01, 0.00000000e+00, 1.00000000e+00, 1.69863014e-01,\n",
              "        6.00000006e-08]])"
            ]
          },
          "metadata": {
            "tags": []
          },
          "execution_count": 14
        }
      ]
    },
    {
      "cell_type": "code",
      "metadata": {
        "colab": {
          "base_uri": "https://localhost:8080/"
        },
        "id": "7iMlO0-Mh2Vg",
        "outputId": "70c951e1-50fe-4b83-c884-998bf00effc5"
      },
      "source": [
        "# Set target variables for training\n",
        "target = ['price']\n",
        "df_low = df.drop(target, axis=1)\n",
        "X = df_scaled\n",
        "Y = df[target].values\n",
        "\n",
        "print(X.shape, Y.shape)"
      ],
      "execution_count": 15,
      "outputs": [
        {
          "output_type": "stream",
          "text": [
            "(212300, 5) (212300, 1)\n"
          ],
          "name": "stdout"
        }
      ]
    },
    {
      "cell_type": "code",
      "metadata": {
        "colab": {
          "base_uri": "https://localhost:8080/"
        },
        "id": "z-ZmGPWGTK-s",
        "outputId": "d075c8de-35f6-4dc5-96a9-8bf97c7270a7"
      },
      "source": [
        "X"
      ],
      "execution_count": 16,
      "outputs": [
        {
          "output_type": "execute_result",
          "data": {
            "text/plain": [
              "array([[3.45542502e-03, 6.66666667e-01, 0.00000000e+00, 0.00000000e+00,\n",
              "        0.00000000e+00],\n",
              "       [2.07325501e-03, 0.00000000e+00, 0.00000000e+00, 7.89041096e-01,\n",
              "        0.00000000e+00],\n",
              "       [2.07325501e-03, 0.00000000e+00, 0.00000000e+00, 8.16438356e-01,\n",
              "        2.90000003e-07],\n",
              "       ...,\n",
              "       [8.00276434e-01, 0.00000000e+00, 1.00000000e+00, 4.73972603e-01,\n",
              "        1.00000001e-08],\n",
              "       [4.66482377e-01, 0.00000000e+00, 1.00000000e+00, 9.91780822e-01,\n",
              "        2.00000002e-07],\n",
              "       [3.09606082e-01, 0.00000000e+00, 1.00000000e+00, 1.69863014e-01,\n",
              "        6.00000006e-08]])"
            ]
          },
          "metadata": {
            "tags": []
          },
          "execution_count": 16
        }
      ]
    },
    {
      "cell_type": "code",
      "metadata": {
        "colab": {
          "base_uri": "https://localhost:8080/"
        },
        "id": "UfqKima_j-Z4",
        "outputId": "a0ac5906-f52f-4873-f441-8ce3ef7d82a5"
      },
      "source": [
        "# Train/Test Split:\n",
        "\n",
        "X_train, X_test, y_train, y_test = train_test_split(X, Y, test_size=0.2, shuffle=True, random_state=42)\n",
        "\n",
        "print(X_train.shape, X_test.shape)\n",
        "print(y_train.shape, y_test.shape)"
      ],
      "execution_count": 17,
      "outputs": [
        {
          "output_type": "stream",
          "text": [
            "(169840, 5) (42460, 5)\n",
            "(169840, 1) (42460, 1)\n"
          ],
          "name": "stdout"
        }
      ]
    },
    {
      "cell_type": "code",
      "metadata": {
        "id": "e1eTuSagkRS8"
      },
      "source": [
        "# Set regularization and NN features:\n",
        "learn_rate_reducer = tf.keras.callbacks.ReduceLROnPlateau(monitor='val_loss', patience=2, factor=0.2, min_lr=0.001, cooldown=3)\n",
        "early_stop = tf.keras.callbacks.EarlyStopping(patience=6, restore_best_weights=True)\n",
        "\n",
        "callbacks = [learn_rate_reducer, early_stop]\n",
        "\n",
        "rmse = tf.keras.metrics.RootMeanSquaredError()"
      ],
      "execution_count": 18,
      "outputs": []
    },
    {
      "cell_type": "code",
      "metadata": {
        "colab": {
          "base_uri": "https://localhost:8080/"
        },
        "id": "0iDaTYWHlKtu",
        "outputId": "1f738504-7d75-46e8-9f86-948b19c63a14"
      },
      "source": [
        "# Model:\n",
        "\n",
        "nn = Sequential()\n",
        "\n",
        "nn.add(Dense(128, input_shape=(X_train.shape[1],), kernel_regularizer=regularizers.l2(0.005), activation='relu'))\n",
        "nn.add(Dropout(0.25))\n",
        "nn.add(Dense(256, kernel_regularizer=regularizers.l2(0.005), activation='relu'))\n",
        "nn.add(Dense(512, kernel_regularizer=regularizers.l2(0.05), activation='relu'))\n",
        "nn.add(Dropout(0.25))\n",
        "nn.add(Dense(128, kernel_regularizer=regularizers.l2(0.005), activation='relu'))\n",
        "nn.add(Dropout(0.25))\n",
        "nn.add(Dense(64, kernel_regularizer=regularizers.l1(0.005), activation='relu'))\n",
        "nn.add(Dense(1, activation='linear'))\n",
        "\n",
        "nn.compile(loss='mean_squared_error',\n",
        "           optimizer='nadam',\n",
        "           metrics=['mean_absolute_error', rmse])\n",
        "\n",
        "# Model summary:\n",
        "print(nn.summary())"
      ],
      "execution_count": 76,
      "outputs": [
        {
          "output_type": "stream",
          "text": [
            "Model: \"sequential_9\"\n",
            "_________________________________________________________________\n",
            "Layer (type)                 Output Shape              Param #   \n",
            "=================================================================\n",
            "dense_54 (Dense)             (None, 128)               768       \n",
            "_________________________________________________________________\n",
            "dropout_27 (Dropout)         (None, 128)               0         \n",
            "_________________________________________________________________\n",
            "dense_55 (Dense)             (None, 256)               33024     \n",
            "_________________________________________________________________\n",
            "dense_56 (Dense)             (None, 512)               131584    \n",
            "_________________________________________________________________\n",
            "dropout_28 (Dropout)         (None, 512)               0         \n",
            "_________________________________________________________________\n",
            "dense_57 (Dense)             (None, 128)               65664     \n",
            "_________________________________________________________________\n",
            "dropout_29 (Dropout)         (None, 128)               0         \n",
            "_________________________________________________________________\n",
            "dense_58 (Dense)             (None, 64)                8256      \n",
            "_________________________________________________________________\n",
            "dense_59 (Dense)             (None, 1)                 65        \n",
            "=================================================================\n",
            "Total params: 239,361\n",
            "Trainable params: 239,361\n",
            "Non-trainable params: 0\n",
            "_________________________________________________________________\n",
            "None\n"
          ],
          "name": "stdout"
        }
      ]
    },
    {
      "cell_type": "code",
      "metadata": {
        "colab": {
          "base_uri": "https://localhost:8080/"
        },
        "id": "1NI0IEQSmbl6",
        "outputId": "90906be1-5150-4d94-97aa-e80e602ab021"
      },
      "source": [
        "history = nn.fit(X_train,\n",
        "                 y_train,\n",
        "                 epochs=40,\n",
        "                 batch_size=256,\n",
        "                 validation_data=(X_test, y_test),\n",
        "                 callbacks=callbacks)"
      ],
      "execution_count": 77,
      "outputs": [
        {
          "output_type": "stream",
          "text": [
            "Epoch 1/40\n",
            "664/664 [==============================] - 11s 15ms/step - loss: 11122.9299 - mean_absolute_error: 75.9557 - root_mean_squared_error: 104.1369 - val_loss: 8031.0234 - val_mean_absolute_error: 61.9305 - val_root_mean_squared_error: 89.5233\n",
            "Epoch 2/40\n",
            "664/664 [==============================] - 10s 15ms/step - loss: 8324.7425 - mean_absolute_error: 66.0256 - root_mean_squared_error: 91.1455 - val_loss: 7976.6514 - val_mean_absolute_error: 61.6734 - val_root_mean_squared_error: 89.2233\n",
            "Epoch 3/40\n",
            "664/664 [==============================] - 10s 15ms/step - loss: 8151.4273 - mean_absolute_error: 65.4287 - root_mean_squared_error: 90.1954 - val_loss: 7812.6743 - val_mean_absolute_error: 64.8414 - val_root_mean_squared_error: 88.3013\n",
            "Epoch 4/40\n",
            "664/664 [==============================] - 10s 15ms/step - loss: 8190.3890 - mean_absolute_error: 65.4790 - root_mean_squared_error: 90.4135 - val_loss: 7788.0938 - val_mean_absolute_error: 64.9638 - val_root_mean_squared_error: 88.1626\n",
            "Epoch 5/40\n",
            "664/664 [==============================] - 10s 15ms/step - loss: 8023.9642 - mean_absolute_error: 64.8356 - root_mean_squared_error: 89.4891 - val_loss: 7775.5396 - val_mean_absolute_error: 62.8897 - val_root_mean_squared_error: 88.0894\n",
            "Epoch 6/40\n",
            "664/664 [==============================] - 10s 15ms/step - loss: 8134.1826 - mean_absolute_error: 65.4152 - root_mean_squared_error: 90.0994 - val_loss: 7775.0547 - val_mean_absolute_error: 62.7507 - val_root_mean_squared_error: 88.0808\n",
            "Epoch 7/40\n",
            "664/664 [==============================] - 10s 15ms/step - loss: 8037.9493 - mean_absolute_error: 64.9015 - root_mean_squared_error: 89.5573 - val_loss: 7932.3057 - val_mean_absolute_error: 61.2779 - val_root_mean_squared_error: 88.9630\n",
            "Epoch 8/40\n",
            "664/664 [==============================] - 10s 15ms/step - loss: 8078.6547 - mean_absolute_error: 64.8679 - root_mean_squared_error: 89.7761 - val_loss: 7747.5142 - val_mean_absolute_error: 61.7485 - val_root_mean_squared_error: 87.9148\n",
            "Epoch 9/40\n",
            "664/664 [==============================] - 10s 15ms/step - loss: 8038.9297 - mean_absolute_error: 64.9049 - root_mean_squared_error: 89.5537 - val_loss: 7986.1035 - val_mean_absolute_error: 60.6598 - val_root_mean_squared_error: 89.2570\n",
            "Epoch 10/40\n",
            "664/664 [==============================] - 10s 15ms/step - loss: 7958.2428 - mean_absolute_error: 64.4295 - root_mean_squared_error: 89.0981 - val_loss: 7688.3740 - val_mean_absolute_error: 64.9768 - val_root_mean_squared_error: 87.5684\n",
            "Epoch 11/40\n",
            "664/664 [==============================] - 10s 15ms/step - loss: 7976.0850 - mean_absolute_error: 64.6481 - root_mean_squared_error: 89.1950 - val_loss: 7665.5493 - val_mean_absolute_error: 62.5056 - val_root_mean_squared_error: 87.4358\n",
            "Epoch 12/40\n",
            "664/664 [==============================] - 10s 15ms/step - loss: 7908.5555 - mean_absolute_error: 64.2678 - root_mean_squared_error: 88.8144 - val_loss: 7778.2715 - val_mean_absolute_error: 61.0273 - val_root_mean_squared_error: 88.0796\n",
            "Epoch 13/40\n",
            "664/664 [==============================] - 10s 15ms/step - loss: 7982.7515 - mean_absolute_error: 64.5327 - root_mean_squared_error: 89.2314 - val_loss: 7801.6084 - val_mean_absolute_error: 60.5684 - val_root_mean_squared_error: 88.2130\n",
            "Epoch 14/40\n",
            "664/664 [==============================] - 10s 15ms/step - loss: 7879.1320 - mean_absolute_error: 64.1994 - root_mean_squared_error: 88.6496 - val_loss: 7834.2329 - val_mean_absolute_error: 60.4019 - val_root_mean_squared_error: 88.3976\n",
            "Epoch 15/40\n",
            "664/664 [==============================] - 10s 15ms/step - loss: 7901.9166 - mean_absolute_error: 64.1199 - root_mean_squared_error: 88.7789 - val_loss: 7978.4058 - val_mean_absolute_error: 59.8790 - val_root_mean_squared_error: 89.2108\n",
            "Epoch 16/40\n",
            "664/664 [==============================] - 10s 15ms/step - loss: 7882.7936 - mean_absolute_error: 64.2862 - root_mean_squared_error: 88.6704 - val_loss: 8168.5864 - val_mean_absolute_error: 59.7971 - val_root_mean_squared_error: 90.2706\n",
            "Epoch 17/40\n",
            "664/664 [==============================] - 10s 15ms/step - loss: 7866.9636 - mean_absolute_error: 63.9890 - root_mean_squared_error: 88.5809 - val_loss: 8307.1924 - val_mean_absolute_error: 59.6642 - val_root_mean_squared_error: 91.0313\n"
          ],
          "name": "stdout"
        }
      ]
    },
    {
      "cell_type": "code",
      "metadata": {
        "colab": {
          "base_uri": "https://localhost:8080/"
        },
        "id": "WytY2M6Vm2Bh",
        "outputId": "bd23c224-d19d-42b8-c25b-5e2b850ff746"
      },
      "source": [
        "# Serialize Model to JSON:\n",
        "import joblib\n",
        "\n",
        "np.random.seed(12)\n",
        "\n",
        "model_json = nn.to_json()\n",
        "with open(\"nn.json\", \"w\") as json_file:\n",
        "  json_file.write(model_json)\n",
        "\n",
        "nn.save_weights('nn.h5')\n",
        "\n",
        "joblib.dump(MMS, 'MMS.gz')\n",
        "joblib.dump(enc, 'encoder.gz')\n"
      ],
      "execution_count": 78,
      "outputs": [
        {
          "output_type": "execute_result",
          "data": {
            "text/plain": [
              "['encoder.gz']"
            ]
          },
          "metadata": {
            "tags": []
          },
          "execution_count": 78
        }
      ]
    },
    {
      "cell_type": "code",
      "metadata": {
        "id": "hhfxI9nPrzaZ"
      },
      "source": [
        "# Load Serialized Model to Reuse:\n",
        "\n",
        "json_file = open('nn.json', 'r')\n",
        "loaded_model_json = json_file.read()\n",
        "json_file.close()\n",
        "\n",
        "loaded_model = model_from_json(loaded_model_json)\n",
        "loaded_model.load_weights('nn.h5')"
      ],
      "execution_count": 79,
      "outputs": []
    },
    {
      "cell_type": "code",
      "metadata": {
        "id": "lyyjpE_Dsjld"
      },
      "source": [
        "# # Test on prediction:\n",
        "\n",
        "# pred = np.array([[0,2,2,300,20]])\n",
        "# prediction = data_pipeline.transform(pred)\n",
        "# # transformed_prediction = MMS.transform(encoded_prediction)"
      ],
      "execution_count": 53,
      "outputs": []
    },
    {
      "cell_type": "code",
      "metadata": {
        "id": "WL2or0-vtIxh"
      },
      "source": [
        "# # Original Model:\n",
        "\n",
        "# nn.predict(transformed_prediction)[0][0]"
      ],
      "execution_count": 82,
      "outputs": []
    },
    {
      "cell_type": "code",
      "metadata": {
        "id": "zprwdTOFtN2H"
      },
      "source": [
        "# # Loaded Model w/ saved weights:\n",
        "\n",
        "# loaded_model.predict(transformed_prediction)[0][0]\n"
      ],
      "execution_count": 54,
      "outputs": []
    },
    {
      "cell_type": "code",
      "metadata": {
        "id": "2jUYk6LitO-y"
      },
      "source": [
        "import joblib\n",
        "\n",
        "def predict_opt_price(neighborhood, room_type, city, availability_365, minimum_nights):\n",
        "  # Import weights and load model to predict:\n",
        "  json_file = open('nn.json', 'r')\n",
        "  loaded_model_json = json_file.read()\n",
        "  json_file.close()\n",
        "\n",
        "  loaded_model = model_from_json(loaded_model_json)\n",
        "  loaded_model.load_weights('nn.h5')\n",
        "\n",
        "  # Load Transformations:\n",
        "  MMS = joblib.load('MMS.gz')\n",
        "  enc = joblib.load('encoder.gz')\n",
        "  # raw_data = np.array([[neighborhood, room_type, minimum_nights, availability_365, city]])\n",
        "  catcols = np.array([[neighborhood, room_type, city]])\n",
        "  numcols = np.array([[availability_365, minimum_nights]])\n",
        "\n",
        "  s1 = enc.transform(catcols)\n",
        "\n",
        "  array_joined = np.append(s1, numcols, axis=1)\n",
        "\n",
        "  transformed = MMS.transform(array_joined)\n",
        "\n",
        "  prediction = loaded_model.predict(transformed)[0][0]\n",
        "\n",
        "  return prediction"
      ],
      "execution_count": 80,
      "outputs": []
    },
    {
      "cell_type": "code",
      "metadata": {
        "colab": {
          "base_uri": "https://localhost:8080/"
        },
        "id": "2KOxFXkux6eY",
        "outputId": "4b2418eb-261b-4028-ef13-890f1643c9e8"
      },
      "source": [
        "predict_opt_price(neighborhood='Glocester', room_type='Entire home/apt', minimum_nights=2, availability_365=300, city='Rhode Island')"
      ],
      "execution_count": 81,
      "outputs": [
        {
          "output_type": "execute_result",
          "data": {
            "text/plain": [
              "174.25793"
            ]
          },
          "metadata": {
            "tags": []
          },
          "execution_count": 81
        }
      ]
    },
    {
      "cell_type": "code",
      "metadata": {
        "colab": {
          "base_uri": "https://localhost:8080/"
        },
        "id": "-hAkgM2MyGq4",
        "outputId": "2c68ab11-2fad-4bc0-8957-265cff02a80a"
      },
      "source": [
        "# enc.categories_"
      ],
      "execution_count": 46,
      "outputs": [
        {
          "output_type": "execute_result",
          "data": {
            "text/plain": [
              "[array(['28704', '28715', '28732', ..., 'Wright', 'Yesler Terrace',\n",
              "        'Yosemite Dr'], dtype=object),\n",
              " array(['Entire home/apt', 'Hotel room', 'Private room', 'Shared room'],\n",
              "       dtype=object),\n",
              " array(['Asheville', 'Austin', 'Boston', 'Broward County', 'Cambridge',\n",
              "        'Chicago', 'Clark County', 'Columbus', 'Denver', 'Hawaii',\n",
              "        'Jersey City', 'Los Angeles', 'Nashville', 'New Orleans',\n",
              "        'New York City', 'Oakland', 'Pacific Grove', 'Portland',\n",
              "        'Rhode Island', 'Salem', 'San Clara Country', 'San Diego',\n",
              "        'San Francisco', 'San Mateo County', 'Santa Cruz County',\n",
              "        'Seattle', 'Twin Cities MSA', 'Washington D.C.'], dtype=object)]"
            ]
          },
          "metadata": {
            "tags": []
          },
          "execution_count": 46
        }
      ]
    },
    {
      "cell_type": "code",
      "metadata": {
        "colab": {
          "base_uri": "https://localhost:8080/",
          "height": 928
        },
        "id": "4dRhQ7i0GgQ-",
        "outputId": "5820c2b7-140c-4ddf-dc53-6b24984a1f16"
      },
      "source": [
        "df1"
      ],
      "execution_count": 48,
      "outputs": [
        {
          "output_type": "execute_result",
          "data": {
            "text/html": [
              "<div>\n",
              "<style scoped>\n",
              "    .dataframe tbody tr th:only-of-type {\n",
              "        vertical-align: middle;\n",
              "    }\n",
              "\n",
              "    .dataframe tbody tr th {\n",
              "        vertical-align: top;\n",
              "    }\n",
              "\n",
              "    .dataframe thead th {\n",
              "        text-align: right;\n",
              "    }\n",
              "</style>\n",
              "<table border=\"1\" class=\"dataframe\">\n",
              "  <thead>\n",
              "    <tr style=\"text-align: right;\">\n",
              "      <th></th>\n",
              "      <th>city</th>\n",
              "      <th>neighborhood_list</th>\n",
              "    </tr>\n",
              "  </thead>\n",
              "  <tbody>\n",
              "    <tr>\n",
              "      <th>0</th>\n",
              "      <td>Asheville</td>\n",
              "      <td>[28804, 28801, 28801, 28806, 28801, 28804, 288...</td>\n",
              "    </tr>\n",
              "    <tr>\n",
              "      <th>1</th>\n",
              "      <td>Austin</td>\n",
              "      <td>[78702, 78702, 78702, 78704, 78729, 78704, 787...</td>\n",
              "    </tr>\n",
              "    <tr>\n",
              "      <th>2</th>\n",
              "      <td>Boston</td>\n",
              "      <td>[East Boston, Roxbury, Roxbury, Downtown, Back...</td>\n",
              "    </tr>\n",
              "    <tr>\n",
              "      <th>3</th>\n",
              "      <td>Broward County</td>\n",
              "      <td>[Fort Lauderdale, Hollywood, Hallandale Beach,...</td>\n",
              "    </tr>\n",
              "    <tr>\n",
              "      <th>4</th>\n",
              "      <td>Cambridge</td>\n",
              "      <td>[West Cambridge, North Cambridge, North Cambri...</td>\n",
              "    </tr>\n",
              "    <tr>\n",
              "      <th>5</th>\n",
              "      <td>Chicago</td>\n",
              "      <td>[Hyde Park, South Lawndale, West Town, Lincoln...</td>\n",
              "    </tr>\n",
              "    <tr>\n",
              "      <th>6</th>\n",
              "      <td>Clark County</td>\n",
              "      <td>[Unincorporated Areas, Unincorporated Areas, U...</td>\n",
              "    </tr>\n",
              "    <tr>\n",
              "      <th>7</th>\n",
              "      <td>Columbus</td>\n",
              "      <td>[Near North/University, Near North/University,...</td>\n",
              "    </tr>\n",
              "    <tr>\n",
              "      <th>8</th>\n",
              "      <td>Denver</td>\n",
              "      <td>[Virginia Village, Highland, Five Points, Nort...</td>\n",
              "    </tr>\n",
              "    <tr>\n",
              "      <th>9</th>\n",
              "      <td>Hawaii</td>\n",
              "      <td>[Hamakua, South Kohala, South Kona, North Kona...</td>\n",
              "    </tr>\n",
              "    <tr>\n",
              "      <th>10</th>\n",
              "      <td>Jersey City</td>\n",
              "      <td>[Ward E (councilmember James Solomon), Ward C ...</td>\n",
              "    </tr>\n",
              "    <tr>\n",
              "      <th>11</th>\n",
              "      <td>Los Angeles</td>\n",
              "      <td>[Culver City, Burbank, Hollywood, Santa Monica...</td>\n",
              "    </tr>\n",
              "    <tr>\n",
              "      <th>12</th>\n",
              "      <td>Nashville</td>\n",
              "      <td>[District 6, District 7, District 7, District ...</td>\n",
              "    </tr>\n",
              "    <tr>\n",
              "      <th>13</th>\n",
              "      <td>New Orleans</td>\n",
              "      <td>[Navarre, Leonidas, Marigny, St. Claude, St. R...</td>\n",
              "    </tr>\n",
              "    <tr>\n",
              "      <th>14</th>\n",
              "      <td>New York City</td>\n",
              "      <td>[Midtown, Clinton Hill, Bedford-Stuyvesant, Su...</td>\n",
              "    </tr>\n",
              "    <tr>\n",
              "      <th>15</th>\n",
              "      <td>Oakland</td>\n",
              "      <td>[Prescott, Oakland Ave-Harrison St, Shafter, S...</td>\n",
              "    </tr>\n",
              "    <tr>\n",
              "      <th>16</th>\n",
              "      <td>Pacific Grove</td>\n",
              "      <td>[Pacific Grove, Pacific Grove, Pacific Grove, ...</td>\n",
              "    </tr>\n",
              "    <tr>\n",
              "      <th>17</th>\n",
              "      <td>Portland</td>\n",
              "      <td>[Pearl, Hayhurst, Pearl, Woodlawn, Roseway, La...</td>\n",
              "    </tr>\n",
              "    <tr>\n",
              "      <th>18</th>\n",
              "      <td>Rhode Island</td>\n",
              "      <td>[Glocester, Narragansett, Pawtucket, Pawtucket...</td>\n",
              "    </tr>\n",
              "    <tr>\n",
              "      <th>19</th>\n",
              "      <td>Salem</td>\n",
              "      <td>[Ward 1, Ward 3, Ward 7, Ward 1, Ward 2, Ward ...</td>\n",
              "    </tr>\n",
              "    <tr>\n",
              "      <th>20</th>\n",
              "      <td>San Clara Country</td>\n",
              "      <td>[Palo Alto, Santa Clara, Mountain View, Palo A...</td>\n",
              "    </tr>\n",
              "    <tr>\n",
              "      <th>21</th>\n",
              "      <td>San Diego</td>\n",
              "      <td>[Pacific Beach, Roseville, North Hills, La Jol...</td>\n",
              "    </tr>\n",
              "    <tr>\n",
              "      <th>22</th>\n",
              "      <td>San Francisco</td>\n",
              "      <td>[Western Addition, Bernal Heights, Haight Ashb...</td>\n",
              "    </tr>\n",
              "    <tr>\n",
              "      <th>23</th>\n",
              "      <td>San Mateo County</td>\n",
              "      <td>[Menlo Park, Pacifica, Burlingame, Burlingame,...</td>\n",
              "    </tr>\n",
              "    <tr>\n",
              "      <th>24</th>\n",
              "      <td>Santa Cruz County</td>\n",
              "      <td>[Unincorporated Areas, City of Santa Cruz, Cit...</td>\n",
              "    </tr>\n",
              "    <tr>\n",
              "      <th>25</th>\n",
              "      <td>Seattle</td>\n",
              "      <td>[Madrona, Georgetown, Fairmount Park, Fairmoun...</td>\n",
              "    </tr>\n",
              "    <tr>\n",
              "      <th>26</th>\n",
              "      <td>Twin Cities MSA</td>\n",
              "      <td>[Hennepin, Hennepin, Hennepin, Hennepin, Ramse...</td>\n",
              "    </tr>\n",
              "    <tr>\n",
              "      <th>27</th>\n",
              "      <td>Washington D.C.</td>\n",
              "      <td>[Historic Anacostia, Edgewood, Bloomingdale, T...</td>\n",
              "    </tr>\n",
              "  </tbody>\n",
              "</table>\n",
              "</div>"
            ],
            "text/plain": [
              "                 city                                  neighborhood_list\n",
              "0           Asheville  [28804, 28801, 28801, 28806, 28801, 28804, 288...\n",
              "1              Austin  [78702, 78702, 78702, 78704, 78729, 78704, 787...\n",
              "2              Boston  [East Boston, Roxbury, Roxbury, Downtown, Back...\n",
              "3      Broward County  [Fort Lauderdale, Hollywood, Hallandale Beach,...\n",
              "4           Cambridge  [West Cambridge, North Cambridge, North Cambri...\n",
              "5             Chicago  [Hyde Park, South Lawndale, West Town, Lincoln...\n",
              "6        Clark County  [Unincorporated Areas, Unincorporated Areas, U...\n",
              "7            Columbus  [Near North/University, Near North/University,...\n",
              "8              Denver  [Virginia Village, Highland, Five Points, Nort...\n",
              "9              Hawaii  [Hamakua, South Kohala, South Kona, North Kona...\n",
              "10        Jersey City  [Ward E (councilmember James Solomon), Ward C ...\n",
              "11        Los Angeles  [Culver City, Burbank, Hollywood, Santa Monica...\n",
              "12          Nashville  [District 6, District 7, District 7, District ...\n",
              "13        New Orleans  [Navarre, Leonidas, Marigny, St. Claude, St. R...\n",
              "14      New York City  [Midtown, Clinton Hill, Bedford-Stuyvesant, Su...\n",
              "15            Oakland  [Prescott, Oakland Ave-Harrison St, Shafter, S...\n",
              "16      Pacific Grove  [Pacific Grove, Pacific Grove, Pacific Grove, ...\n",
              "17           Portland  [Pearl, Hayhurst, Pearl, Woodlawn, Roseway, La...\n",
              "18       Rhode Island  [Glocester, Narragansett, Pawtucket, Pawtucket...\n",
              "19              Salem  [Ward 1, Ward 3, Ward 7, Ward 1, Ward 2, Ward ...\n",
              "20  San Clara Country  [Palo Alto, Santa Clara, Mountain View, Palo A...\n",
              "21          San Diego  [Pacific Beach, Roseville, North Hills, La Jol...\n",
              "22      San Francisco  [Western Addition, Bernal Heights, Haight Ashb...\n",
              "23   San Mateo County  [Menlo Park, Pacifica, Burlingame, Burlingame,...\n",
              "24  Santa Cruz County  [Unincorporated Areas, City of Santa Cruz, Cit...\n",
              "25            Seattle  [Madrona, Georgetown, Fairmount Park, Fairmoun...\n",
              "26    Twin Cities MSA  [Hennepin, Hennepin, Hennepin, Hennepin, Ramse...\n",
              "27    Washington D.C.  [Historic Anacostia, Edgewood, Bloomingdale, T..."
            ]
          },
          "metadata": {
            "tags": []
          },
          "execution_count": 48
        }
      ]
    },
    {
      "cell_type": "code",
      "metadata": {
        "id": "c9urr3LrHJZh"
      },
      "source": [
        ""
      ],
      "execution_count": null,
      "outputs": []
    }
  ]
}