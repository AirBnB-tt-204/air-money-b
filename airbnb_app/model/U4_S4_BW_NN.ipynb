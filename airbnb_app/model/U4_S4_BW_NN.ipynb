{
  "nbformat": 4,
  "nbformat_minor": 0,
  "metadata": {
    "colab": {
      "name": "U4-S4-BW-NN",
      "provenance": [],
      "collapsed_sections": []
    },
    "kernelspec": {
      "name": "python3",
      "display_name": "Python 3"
    }
  },
  "cells": [
    {
      "cell_type": "code",
      "metadata": {
        "id": "OTtGshXOf5kM"
      },
      "source": [
        "import os\n",
        "import numpy as np\n",
        "import pandas as pd\n",
        "\n",
        "import tensorflow as tf\n",
        "from sklearn.preprocessing import MinMaxScaler\n",
        "from sklearn.model_selection import train_test_split\n",
        "from tensorflow.keras.models import Sequential\n",
        "from tensorflow.keras.layers import Dense, Dropout\n",
        "from tensorflow.keras.models import model_from_json\n",
        "from keras import regularizers\n",
        "\n",
        "tf.keras.backend.set_floatx('float32')"
      ],
      "execution_count": 9,
      "outputs": []
    },
    {
      "cell_type": "code",
      "metadata": {
        "colab": {
          "base_uri": "https://localhost:8080/"
        },
        "id": "ruJqAh1rg58Q",
        "outputId": "7251ddff-5793-40c2-9f7f-f51be040d5ce"
      },
      "source": [
        "# read in data:\n",
        "df = pd.read_csv('/content/drive/MyDrive/AB_US_2020.csv')\n",
        "df.shape"
      ],
      "execution_count": 10,
      "outputs": [
        {
          "output_type": "stream",
          "text": [
            "/usr/local/lib/python3.7/dist-packages/IPython/core/interactiveshell.py:2718: DtypeWarning: Columns (4) have mixed types.Specify dtype option on import or set low_memory=False.\n",
            "  interactivity=interactivity, compiler=compiler, result=result)\n"
          ],
          "name": "stderr"
        },
        {
          "output_type": "execute_result",
          "data": {
            "text/plain": [
              "(226030, 17)"
            ]
          },
          "metadata": {
            "tags": []
          },
          "execution_count": 10
        }
      ]
    },
    {
      "cell_type": "code",
      "metadata": {
        "colab": {
          "base_uri": "https://localhost:8080/"
        },
        "id": "11D8P6DZhHxZ",
        "outputId": "f570115a-bb3a-4f45-df62-6e4807778275"
      },
      "source": [
        "df.columns"
      ],
      "execution_count": 11,
      "outputs": [
        {
          "output_type": "execute_result",
          "data": {
            "text/plain": [
              "Index(['id', 'name', 'host_id', 'host_name', 'neighbourhood_group',\n",
              "       'neighbourhood', 'latitude', 'longitude', 'room_type', 'price',\n",
              "       'minimum_nights', 'number_of_reviews', 'last_review',\n",
              "       'reviews_per_month', 'calculated_host_listings_count',\n",
              "       'availability_365', 'city'],\n",
              "      dtype='object')"
            ]
          },
          "metadata": {
            "tags": []
          },
          "execution_count": 11
        }
      ]
    },
    {
      "cell_type": "code",
      "metadata": {
        "colab": {
          "base_uri": "https://localhost:8080/"
        },
        "id": "3o5cb1TlhQHF",
        "outputId": "e13204d8-0350-41ed-c20e-0d6aaf4665c7"
      },
      "source": [
        "# Drop Unusable columns\n",
        "columns = ['id',\n",
        "           'neighbourhood_group',\n",
        "           'last_review',\n",
        "           'reviews_per_month',\n",
        "           'name',\n",
        "           'host_name',\n",
        "           'latitude',\n",
        "           'longitude',\n",
        "           'number_of_reviews',\n",
        "           'host_id',\n",
        "           'calculated_host_listings_count']\n",
        "\n",
        "df = df.drop(columns, axis=1)\n",
        "df.shape"
      ],
      "execution_count": 12,
      "outputs": [
        {
          "output_type": "execute_result",
          "data": {
            "text/plain": [
              "(226030, 6)"
            ]
          },
          "metadata": {
            "tags": []
          },
          "execution_count": 12
        }
      ]
    },
    {
      "cell_type": "code",
      "metadata": {
        "colab": {
          "base_uri": "https://localhost:8080/"
        },
        "id": "R20FyZcSijY8",
        "outputId": "5685010c-88ae-46ec-b28a-ee96449a263f"
      },
      "source": [
        "# factorize non-numeric categorical data,\n",
        "# simple process on data for preparation to train\n",
        "\n",
        "\n",
        "df['neighbourhood'] = pd.factorize(df.neighbourhood)[0]\n",
        "df['room_type'] = pd.factorize(df.room_type)[0]\n",
        "df['city'] = pd.factorize(df.city)[0]\n",
        "df['price'] = df['price'].astype(float)\n",
        "\n",
        "df = df[df['price'] <= 501]\n",
        "\n",
        "df.shape"
      ],
      "execution_count": 17,
      "outputs": [
        {
          "output_type": "stream",
          "text": [
            "/usr/local/lib/python3.7/dist-packages/ipykernel_launcher.py:5: SettingWithCopyWarning: \n",
            "A value is trying to be set on a copy of a slice from a DataFrame.\n",
            "Try using .loc[row_indexer,col_indexer] = value instead\n",
            "\n",
            "See the caveats in the documentation: https://pandas.pydata.org/pandas-docs/stable/user_guide/indexing.html#returning-a-view-versus-a-copy\n",
            "  \"\"\"\n",
            "/usr/local/lib/python3.7/dist-packages/ipykernel_launcher.py:6: SettingWithCopyWarning: \n",
            "A value is trying to be set on a copy of a slice from a DataFrame.\n",
            "Try using .loc[row_indexer,col_indexer] = value instead\n",
            "\n",
            "See the caveats in the documentation: https://pandas.pydata.org/pandas-docs/stable/user_guide/indexing.html#returning-a-view-versus-a-copy\n",
            "  \n",
            "/usr/local/lib/python3.7/dist-packages/ipykernel_launcher.py:7: SettingWithCopyWarning: \n",
            "A value is trying to be set on a copy of a slice from a DataFrame.\n",
            "Try using .loc[row_indexer,col_indexer] = value instead\n",
            "\n",
            "See the caveats in the documentation: https://pandas.pydata.org/pandas-docs/stable/user_guide/indexing.html#returning-a-view-versus-a-copy\n",
            "  import sys\n",
            "/usr/local/lib/python3.7/dist-packages/ipykernel_launcher.py:8: SettingWithCopyWarning: \n",
            "A value is trying to be set on a copy of a slice from a DataFrame.\n",
            "Try using .loc[row_indexer,col_indexer] = value instead\n",
            "\n",
            "See the caveats in the documentation: https://pandas.pydata.org/pandas-docs/stable/user_guide/indexing.html#returning-a-view-versus-a-copy\n",
            "  \n"
          ],
          "name": "stderr"
        },
        {
          "output_type": "execute_result",
          "data": {
            "text/plain": [
              "(212300, 6)"
            ]
          },
          "metadata": {
            "tags": []
          },
          "execution_count": 17
        }
      ]
    },
    {
      "cell_type": "code",
      "metadata": {
        "colab": {
          "base_uri": "https://localhost:8080/"
        },
        "id": "u12S_AecjpGY",
        "outputId": "9a5f132f-998c-4939-f231-33b942cfe94a"
      },
      "source": [
        "df.isnull().sum()"
      ],
      "execution_count": 18,
      "outputs": [
        {
          "output_type": "execute_result",
          "data": {
            "text/plain": [
              "neighbourhood       0\n",
              "room_type           0\n",
              "price               0\n",
              "minimum_nights      0\n",
              "availability_365    0\n",
              "city                0\n",
              "dtype: int64"
            ]
          },
          "metadata": {
            "tags": []
          },
          "execution_count": 18
        }
      ]
    },
    {
      "cell_type": "code",
      "metadata": {
        "colab": {
          "base_uri": "https://localhost:8080/"
        },
        "id": "7iMlO0-Mh2Vg",
        "outputId": "636be94f-ea85-41d1-b130-890aef105d81"
      },
      "source": [
        "# Set target variables for training\n",
        "target = ['price']\n",
        "df_low = df.drop(target, axis=1)\n",
        "X = df_low.values\n",
        "Y = df[target].values\n",
        "\n",
        "print(X.shape, Y.shape)"
      ],
      "execution_count": 27,
      "outputs": [
        {
          "output_type": "stream",
          "text": [
            "(212300, 5) (212300, 1)\n"
          ],
          "name": "stdout"
        }
      ]
    },
    {
      "cell_type": "code",
      "metadata": {
        "id": "1VcfTJVMiJlC"
      },
      "source": [
        "MMS = MinMaxScaler()\n",
        "X = MMS.fit_transform(X)"
      ],
      "execution_count": 28,
      "outputs": []
    },
    {
      "cell_type": "code",
      "metadata": {
        "colab": {
          "base_uri": "https://localhost:8080/"
        },
        "id": "UfqKima_j-Z4",
        "outputId": "e47309a8-8c12-4ffd-f88d-27258dc9c69f"
      },
      "source": [
        "# Train/Test Split:\n",
        "\n",
        "X_train, X_test, y_train, y_test = train_test_split(X, Y, test_size=0.2, shuffle=True, random_state=42)\n",
        "\n",
        "print(X_train.shape, X_test.shape)\n",
        "print(y_train.shape, y_test.shape)"
      ],
      "execution_count": 29,
      "outputs": [
        {
          "output_type": "stream",
          "text": [
            "(169840, 5) (42460, 5)\n",
            "(169840, 1) (42460, 1)\n"
          ],
          "name": "stdout"
        }
      ]
    },
    {
      "cell_type": "code",
      "metadata": {
        "id": "e1eTuSagkRS8"
      },
      "source": [
        "# Set regularization and NN features:\n",
        "learn_rate_reducer = tf.keras.callbacks.ReduceLROnPlateau(monitor='val_loss', patience=2, factor=0.2, min_lr=0.001, cooldown=2)\n",
        "early_stop = tf.keras.callbacks.EarlyStopping(patience=5, restore_best_weights=True)\n",
        "\n",
        "callbacks = [learn_rate_reducer, early_stop]\n",
        "\n",
        "rmse = tf.keras.metrics.RootMeanSquaredError()"
      ],
      "execution_count": 30,
      "outputs": []
    },
    {
      "cell_type": "code",
      "metadata": {
        "colab": {
          "base_uri": "https://localhost:8080/"
        },
        "id": "0iDaTYWHlKtu",
        "outputId": "4cf3f0a8-7f40-411e-c03f-e2c9f32bce91"
      },
      "source": [
        "# Model:\n",
        "\n",
        "nn = Sequential()\n",
        "\n",
        "nn.add(Dense(128, input_shape=(X_train.shape[1],), kernel_regularizer=regularizers.l1(0.005), activation='relu'))\n",
        "nn.add(Dropout(0.25))\n",
        "nn.add(Dense(256, kernel_regularizer=regularizers.l1(0.005), activation='relu'))\n",
        "nn.add(Dropout(0.15))\n",
        "nn.add(Dense(512, kernel_regularizer=regularizers.l2(0.005), activation='relu'))\n",
        "nn.add(Dropout(0.3))\n",
        "nn.add(Dense(64, kernel_regularizer=regularizers.l2(0.005), activation='relu'))\n",
        "nn.add(Dense(1, activation='linear'))\n",
        "\n",
        "nn.compile(loss='mean_squared_error',\n",
        "           optimizer='nadam',\n",
        "           metrics=['mean_absolute_error', rmse])\n",
        "\n",
        "# Model summary:\n",
        "print(nn.summary())"
      ],
      "execution_count": 33,
      "outputs": [
        {
          "output_type": "stream",
          "text": [
            "Model: \"sequential_3\"\n",
            "_________________________________________________________________\n",
            "Layer (type)                 Output Shape              Param #   \n",
            "=================================================================\n",
            "dense_15 (Dense)             (None, 128)               768       \n",
            "_________________________________________________________________\n",
            "dropout_9 (Dropout)          (None, 128)               0         \n",
            "_________________________________________________________________\n",
            "dense_16 (Dense)             (None, 256)               33024     \n",
            "_________________________________________________________________\n",
            "dropout_10 (Dropout)         (None, 256)               0         \n",
            "_________________________________________________________________\n",
            "dense_17 (Dense)             (None, 512)               131584    \n",
            "_________________________________________________________________\n",
            "dropout_11 (Dropout)         (None, 512)               0         \n",
            "_________________________________________________________________\n",
            "dense_18 (Dense)             (None, 64)                32832     \n",
            "_________________________________________________________________\n",
            "dense_19 (Dense)             (None, 1)                 65        \n",
            "=================================================================\n",
            "Total params: 198,273\n",
            "Trainable params: 198,273\n",
            "Non-trainable params: 0\n",
            "_________________________________________________________________\n",
            "None\n"
          ],
          "name": "stdout"
        }
      ]
    },
    {
      "cell_type": "code",
      "metadata": {
        "colab": {
          "base_uri": "https://localhost:8080/"
        },
        "id": "1NI0IEQSmbl6",
        "outputId": "6c8b3a3a-f6fb-489a-9359-f79642807571"
      },
      "source": [
        "history = nn.fit(X_train,\n",
        "                 y_train,\n",
        "                 epochs=50,\n",
        "                 batch_size=64,\n",
        "                 validation_data=(X_test, y_test),\n",
        "                 callbacks=callbacks)"
      ],
      "execution_count": 34,
      "outputs": [
        {
          "output_type": "stream",
          "text": [
            "Epoch 1/50\n",
            "2654/2654 [==============================] - 26s 9ms/step - loss: 9549.2749 - mean_absolute_error: 70.8617 - root_mean_squared_error: 90.8794 - val_loss: 7960.6465 - val_mean_absolute_error: 67.9458 - val_root_mean_squared_error: 89.1443\n",
            "Epoch 2/50\n",
            "2654/2654 [==============================] - 24s 9ms/step - loss: 8096.0304 - mean_absolute_error: 65.3582 - root_mean_squared_error: 89.8995 - val_loss: 7840.0483 - val_mean_absolute_error: 63.1853 - val_root_mean_squared_error: 88.4640\n",
            "Epoch 3/50\n",
            "2654/2654 [==============================] - 25s 9ms/step - loss: 8148.5987 - mean_absolute_error: 65.5932 - root_mean_squared_error: 90.1878 - val_loss: 7802.7334 - val_mean_absolute_error: 65.0496 - val_root_mean_squared_error: 88.2517\n",
            "Epoch 4/50\n",
            "2654/2654 [==============================] - 25s 9ms/step - loss: 8100.9763 - mean_absolute_error: 65.2507 - root_mean_squared_error: 89.9255 - val_loss: 7777.0620 - val_mean_absolute_error: 64.6657 - val_root_mean_squared_error: 88.1110\n",
            "Epoch 5/50\n",
            "2654/2654 [==============================] - 25s 9ms/step - loss: 8058.5006 - mean_absolute_error: 65.0374 - root_mean_squared_error: 89.6923 - val_loss: 7789.9028 - val_mean_absolute_error: 64.4800 - val_root_mean_squared_error: 88.1906\n",
            "Epoch 6/50\n",
            "2654/2654 [==============================] - 25s 9ms/step - loss: 8118.4697 - mean_absolute_error: 65.3615 - root_mean_squared_error: 90.0335 - val_loss: 7766.3086 - val_mean_absolute_error: 63.9119 - val_root_mean_squared_error: 88.0594\n",
            "Epoch 7/50\n",
            "2654/2654 [==============================] - 26s 10ms/step - loss: 8100.6191 - mean_absolute_error: 65.1553 - root_mean_squared_error: 89.9371 - val_loss: 7779.6460 - val_mean_absolute_error: 65.3262 - val_root_mean_squared_error: 88.1362\n",
            "Epoch 8/50\n",
            "2654/2654 [==============================] - 25s 9ms/step - loss: 8111.0966 - mean_absolute_error: 65.3938 - root_mean_squared_error: 89.9937 - val_loss: 7765.1299 - val_mean_absolute_error: 63.5805 - val_root_mean_squared_error: 88.0539\n",
            "Epoch 9/50\n",
            "2654/2654 [==============================] - 25s 10ms/step - loss: 8052.9476 - mean_absolute_error: 65.0904 - root_mean_squared_error: 89.6712 - val_loss: 7820.8618 - val_mean_absolute_error: 62.2513 - val_root_mean_squared_error: 88.3723\n",
            "Epoch 10/50\n",
            "2654/2654 [==============================] - 25s 9ms/step - loss: 7980.8481 - mean_absolute_error: 64.8319 - root_mean_squared_error: 89.2704 - val_loss: 7738.1646 - val_mean_absolute_error: 64.6762 - val_root_mean_squared_error: 87.9036\n",
            "Epoch 11/50\n",
            "2654/2654 [==============================] - 25s 9ms/step - loss: 8017.4531 - mean_absolute_error: 64.9249 - root_mean_squared_error: 89.4757 - val_loss: 7773.4790 - val_mean_absolute_error: 62.1806 - val_root_mean_squared_error: 88.1049\n",
            "Epoch 12/50\n",
            "2654/2654 [==============================] - 25s 9ms/step - loss: 8059.7444 - mean_absolute_error: 65.1041 - root_mean_squared_error: 89.7125 - val_loss: 7706.1313 - val_mean_absolute_error: 64.2059 - val_root_mean_squared_error: 87.7223\n",
            "Epoch 13/50\n",
            "2654/2654 [==============================] - 25s 9ms/step - loss: 7991.2356 - mean_absolute_error: 64.9104 - root_mean_squared_error: 89.3321 - val_loss: 7793.5171 - val_mean_absolute_error: 61.9543 - val_root_mean_squared_error: 88.2203\n",
            "Epoch 14/50\n",
            "2654/2654 [==============================] - 25s 9ms/step - loss: 8002.9084 - mean_absolute_error: 64.8860 - root_mean_squared_error: 89.3966 - val_loss: 7702.6841 - val_mean_absolute_error: 64.3585 - val_root_mean_squared_error: 87.7034\n",
            "Epoch 15/50\n",
            "2654/2654 [==============================] - 25s 9ms/step - loss: 8049.0684 - mean_absolute_error: 65.1105 - root_mean_squared_error: 89.6559 - val_loss: 7698.2505 - val_mean_absolute_error: 63.3975 - val_root_mean_squared_error: 87.6789\n",
            "Epoch 16/50\n",
            "2654/2654 [==============================] - 26s 10ms/step - loss: 7956.7625 - mean_absolute_error: 64.5264 - root_mean_squared_error: 89.1376 - val_loss: 7774.4175 - val_mean_absolute_error: 62.4019 - val_root_mean_squared_error: 88.1124\n",
            "Epoch 17/50\n",
            "2654/2654 [==============================] - 25s 9ms/step - loss: 7973.7292 - mean_absolute_error: 64.7413 - root_mean_squared_error: 89.2330 - val_loss: 7696.7349 - val_mean_absolute_error: 64.8364 - val_root_mean_squared_error: 87.6685\n",
            "Epoch 18/50\n",
            "2654/2654 [==============================] - 25s 9ms/step - loss: 8049.6028 - mean_absolute_error: 65.0994 - root_mean_squared_error: 89.6580 - val_loss: 7733.1919 - val_mean_absolute_error: 63.0669 - val_root_mean_squared_error: 87.8771\n",
            "Epoch 19/50\n",
            "2654/2654 [==============================] - 25s 9ms/step - loss: 8002.3583 - mean_absolute_error: 64.8576 - root_mean_squared_error: 89.3944 - val_loss: 7704.5308 - val_mean_absolute_error: 64.4985 - val_root_mean_squared_error: 87.7145\n",
            "Epoch 20/50\n",
            "2654/2654 [==============================] - 25s 9ms/step - loss: 7972.9422 - mean_absolute_error: 64.7949 - root_mean_squared_error: 89.2301 - val_loss: 7711.9614 - val_mean_absolute_error: 62.6708 - val_root_mean_squared_error: 87.7583\n",
            "Epoch 21/50\n",
            "2654/2654 [==============================] - 25s 9ms/step - loss: 7964.1086 - mean_absolute_error: 64.6269 - root_mean_squared_error: 89.1819 - val_loss: 7687.0156 - val_mean_absolute_error: 63.4946 - val_root_mean_squared_error: 87.6149\n",
            "Epoch 22/50\n",
            "2654/2654 [==============================] - 25s 9ms/step - loss: 7994.6211 - mean_absolute_error: 64.8251 - root_mean_squared_error: 89.3518 - val_loss: 7676.9614 - val_mean_absolute_error: 64.1242 - val_root_mean_squared_error: 87.5566\n",
            "Epoch 23/50\n",
            "2654/2654 [==============================] - 25s 9ms/step - loss: 7956.6026 - mean_absolute_error: 64.7057 - root_mean_squared_error: 89.1379 - val_loss: 7681.1831 - val_mean_absolute_error: 64.2116 - val_root_mean_squared_error: 87.5799\n",
            "Epoch 24/50\n",
            "2654/2654 [==============================] - 25s 9ms/step - loss: 7991.8688 - mean_absolute_error: 64.7414 - root_mean_squared_error: 89.3350 - val_loss: 7690.6338 - val_mean_absolute_error: 64.8561 - val_root_mean_squared_error: 87.6316\n",
            "Epoch 25/50\n",
            "2654/2654 [==============================] - 25s 9ms/step - loss: 7906.4302 - mean_absolute_error: 64.5216 - root_mean_squared_error: 88.8499 - val_loss: 7665.9360 - val_mean_absolute_error: 64.5456 - val_root_mean_squared_error: 87.4879\n",
            "Epoch 26/50\n",
            "2654/2654 [==============================] - 25s 9ms/step - loss: 7922.1274 - mean_absolute_error: 64.5240 - root_mean_squared_error: 88.9390 - val_loss: 7642.3296 - val_mean_absolute_error: 63.5510 - val_root_mean_squared_error: 87.3516\n",
            "Epoch 27/50\n",
            "2654/2654 [==============================] - 25s 9ms/step - loss: 7966.2739 - mean_absolute_error: 64.7509 - root_mean_squared_error: 89.1837 - val_loss: 7636.2866 - val_mean_absolute_error: 63.5083 - val_root_mean_squared_error: 87.3161\n",
            "Epoch 28/50\n",
            "2654/2654 [==============================] - 25s 9ms/step - loss: 7957.4003 - mean_absolute_error: 64.7822 - root_mean_squared_error: 89.1341 - val_loss: 7656.3564 - val_mean_absolute_error: 63.7153 - val_root_mean_squared_error: 87.4299\n",
            "Epoch 29/50\n",
            "2654/2654 [==============================] - 25s 9ms/step - loss: 7910.9621 - mean_absolute_error: 64.5742 - root_mean_squared_error: 88.8732 - val_loss: 7640.4712 - val_mean_absolute_error: 63.8048 - val_root_mean_squared_error: 87.3381\n",
            "Epoch 30/50\n",
            "2654/2654 [==============================] - 25s 10ms/step - loss: 7982.4731 - mean_absolute_error: 64.6844 - root_mean_squared_error: 89.2730 - val_loss: 7653.5938 - val_mean_absolute_error: 63.0398 - val_root_mean_squared_error: 87.4122\n",
            "Epoch 31/50\n",
            "2654/2654 [==============================] - 25s 9ms/step - loss: 7900.1912 - mean_absolute_error: 64.3769 - root_mean_squared_error: 88.8088 - val_loss: 7656.1968 - val_mean_absolute_error: 63.5708 - val_root_mean_squared_error: 87.4264\n",
            "Epoch 32/50\n",
            "2654/2654 [==============================] - 25s 9ms/step - loss: 7926.0051 - mean_absolute_error: 64.4059 - root_mean_squared_error: 88.9553 - val_loss: 7694.2412 - val_mean_absolute_error: 65.4360 - val_root_mean_squared_error: 87.6431\n"
          ],
          "name": "stdout"
        }
      ]
    },
    {
      "cell_type": "code",
      "metadata": {
        "colab": {
          "base_uri": "https://localhost:8080/"
        },
        "id": "WytY2M6Vm2Bh",
        "outputId": "a5e7f696-4d3d-436f-90ae-4ae8e4c9c8e5"
      },
      "source": [
        "# Serialize Model to JSON:\n",
        "import joblib\n",
        "\n",
        "np.random.seed(12)\n",
        "\n",
        "model_json = nn.to_json()\n",
        "with open(\"nn.json\", \"w\") as json_file:\n",
        "  json_file.write(model_json)\n",
        "\n",
        "nn.save_weights('nn.h5')\n",
        "\n",
        "joblib.dump(MMS, 'MMS.gz')\n"
      ],
      "execution_count": 74,
      "outputs": [
        {
          "output_type": "execute_result",
          "data": {
            "text/plain": [
              "['MMS.gz']"
            ]
          },
          "metadata": {
            "tags": []
          },
          "execution_count": 74
        }
      ]
    },
    {
      "cell_type": "code",
      "metadata": {
        "id": "hhfxI9nPrzaZ"
      },
      "source": [
        "# Load Serialized Model to Reuse:\n",
        "\n",
        "json_file = open('nn.json', 'r')\n",
        "loaded_model_json = json_file.read()\n",
        "json_file.close()\n",
        "\n",
        "loaded_model = model_from_json(loaded_model_json)\n",
        "loaded_model.load_weights('nn.h5')"
      ],
      "execution_count": 37,
      "outputs": []
    },
    {
      "cell_type": "code",
      "metadata": {
        "id": "lyyjpE_Dsjld"
      },
      "source": [
        "# Test on prediction:\n",
        "\n",
        "pred = np.array([[1,2,2,300,20]])\n",
        "\n",
        "transformed_prediction = MMS.transform(pred)"
      ],
      "execution_count": 71,
      "outputs": []
    },
    {
      "cell_type": "code",
      "metadata": {
        "colab": {
          "base_uri": "https://localhost:8080/"
        },
        "id": "WL2or0-vtIxh",
        "outputId": "07caaed3-0d7b-4944-a0be-287a9d3853b5"
      },
      "source": [
        "# Original Model:\n",
        "\n",
        "nn.predict(transformed_prediction)[0][0]"
      ],
      "execution_count": 72,
      "outputs": [
        {
          "output_type": "execute_result",
          "data": {
            "text/plain": [
              "185.5262"
            ]
          },
          "metadata": {
            "tags": []
          },
          "execution_count": 72
        }
      ]
    },
    {
      "cell_type": "code",
      "metadata": {
        "colab": {
          "base_uri": "https://localhost:8080/"
        },
        "id": "zprwdTOFtN2H",
        "outputId": "bb83d90b-4bcc-4302-cf72-6e6e4c85f819"
      },
      "source": [
        "# Loaded Model w/ saved weights:\n",
        "\n",
        "loaded_model.predict(transformed_prediction)[0][0]\n"
      ],
      "execution_count": 73,
      "outputs": [
        {
          "output_type": "execute_result",
          "data": {
            "text/plain": [
              "185.5262"
            ]
          },
          "metadata": {
            "tags": []
          },
          "execution_count": 73
        }
      ]
    },
    {
      "cell_type": "code",
      "metadata": {
        "id": "2jUYk6LitO-y"
      },
      "source": [
        "from sklearn.preprocessing import MinMaxScaler\n",
        "import joblib\n",
        "\n",
        "def predict_opt_price(neighborhood, room_type, minimum_nights, availability_90, city):\n",
        "  # Import weights and load model to predict:\n",
        "  json_file = open('nn.json', 'r')\n",
        "  loaded_model_json = json_file.read()\n",
        "  json_file.close()\n",
        "\n",
        "  loaded_model = model_from_json(loaded_model_json)\n",
        "  loaded_model.load_weights('nn.h5')\n",
        "\n",
        "  # Load Scaler:\n",
        "  MMS = joblib.load('MMS.gz')\n",
        "\n",
        "  raw_data = np.array([[neighborhood, room_type, minimum_nights, availability_90, city]])\n",
        "\n",
        "  transformed = MMS.transform(raw_data)\n",
        "\n",
        "  prediction = loaded_model.predict(transformed)[0][0]\n",
        "\n",
        "  return prediction\n",
        "\n",
        "  \n",
        "\n"
      ],
      "execution_count": 78,
      "outputs": []
    },
    {
      "cell_type": "code",
      "metadata": {
        "colab": {
          "base_uri": "https://localhost:8080/"
        },
        "id": "2KOxFXkux6eY",
        "outputId": "2375706d-e567-435c-bc24-ef2adfc3fc3f"
      },
      "source": [
        "predict_opt_price(neighborhood=0, room_type=1, minimum_nights=5, availability_90=70, city=21)"
      ],
      "execution_count": 79,
      "outputs": [
        {
          "output_type": "execute_result",
          "data": {
            "text/plain": [
              "186.46158"
            ]
          },
          "metadata": {
            "tags": []
          },
          "execution_count": 79
        }
      ]
    },
    {
      "cell_type": "code",
      "metadata": {
        "id": "-hAkgM2MyGq4"
      },
      "source": [
        ""
      ],
      "execution_count": null,
      "outputs": []
    }
  ]
}